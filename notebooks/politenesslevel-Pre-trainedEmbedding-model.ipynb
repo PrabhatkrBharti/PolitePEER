{
 "cells": [
  {
   "cell_type": "code",
   "execution_count": 1,
   "id": "b94f9269",
   "metadata": {
    "_cell_guid": "b1076dfc-b9ad-4769-8c92-a6c4dae69d19",
    "_uuid": "8f2839f25d086af736a60e9eeb907d3b93b6e0e5",
    "execution": {
     "iopub.execute_input": "2022-12-05T04:16:21.406774Z",
     "iopub.status.busy": "2022-12-05T04:16:21.405842Z",
     "iopub.status.idle": "2022-12-05T04:17:14.815773Z",
     "shell.execute_reply": "2022-12-05T04:17:14.814583Z"
    },
    "papermill": {
     "duration": 53.423626,
     "end_time": "2022-12-05T04:17:14.818539",
     "exception": false,
     "start_time": "2022-12-05T04:16:21.394913",
     "status": "completed"
    },
    "tags": []
   },
   "outputs": [
    {
     "name": "stdout",
     "output_type": "stream",
     "text": [
      "Collecting pretty-confusion-matrix\r\n",
      "  Downloading pretty_confusion_matrix-0.1.1-py3-none-any.whl (9.6 kB)\r\n",
      "Collecting pre-commit<3.0.0,>=2.12.1\r\n",
      "  Downloading pre_commit-2.20.0-py2.py3-none-any.whl (199 kB)\r\n",
      "\u001b[2K     \u001b[90m━━━━━━━━━━━━━━━━━━━━━━━━━━━━━━━━━━━━━━━\u001b[0m \u001b[32m199.5/199.5 kB\u001b[0m \u001b[31m1.4 MB/s\u001b[0m eta \u001b[36m0:00:00\u001b[0m\r\n",
      "\u001b[?25hRequirement already satisfied: seaborn<0.12.0,>=0.11.2 in /opt/conda/lib/python3.7/site-packages (from pretty-confusion-matrix) (0.11.2)\r\n",
      "Requirement already satisfied: numpy<2.0.0,>=1.21.4 in /opt/conda/lib/python3.7/site-packages (from pretty-confusion-matrix) (1.21.6)\r\n",
      "Requirement already satisfied: isort<6.0.0,>=5.8.0 in /opt/conda/lib/python3.7/site-packages (from pretty-confusion-matrix) (5.10.1)\r\n",
      "Requirement already satisfied: matplotlib<4.0.0,>=3.5.0 in /opt/conda/lib/python3.7/site-packages (from pretty-confusion-matrix) (3.5.3)\r\n",
      "Requirement already satisfied: pandas<2.0.0,>=1.3.4 in /opt/conda/lib/python3.7/site-packages (from pretty-confusion-matrix) (1.3.5)\r\n",
      "Collecting flake8<4.0.0,>=3.9.2\r\n",
      "  Downloading flake8-3.9.2-py2.py3-none-any.whl (73 kB)\r\n",
      "\u001b[2K     \u001b[90m━━━━━━━━━━━━━━━━━━━━━━━━━━━━━━━━━━━━━━━━\u001b[0m \u001b[32m73.1/73.1 kB\u001b[0m \u001b[31m4.4 MB/s\u001b[0m eta \u001b[36m0:00:00\u001b[0m\r\n",
      "\u001b[?25hRequirement already satisfied: sklearn<0.1,>=0.0 in /opt/conda/lib/python3.7/site-packages (from pretty-confusion-matrix) (0.0)\r\n",
      "Collecting black<22.0,>=21.5b0\r\n",
      "  Downloading black-21.12b0-py3-none-any.whl (156 kB)\r\n",
      "\u001b[2K     \u001b[90m━━━━━━━━━━━━━━━━━━━━━━━━━━━━━━━━━━━━━━━\u001b[0m \u001b[32m156.7/156.7 kB\u001b[0m \u001b[31m4.7 MB/s\u001b[0m eta \u001b[36m0:00:00\u001b[0m\r\n",
      "\u001b[?25hRequirement already satisfied: mypy-extensions>=0.4.3 in /opt/conda/lib/python3.7/site-packages (from black<22.0,>=21.5b0->pretty-confusion-matrix) (0.4.3)\r\n",
      "Collecting tomli<2.0.0,>=0.2.6\r\n",
      "  Downloading tomli-1.2.3-py3-none-any.whl (12 kB)\r\n",
      "Requirement already satisfied: typed-ast>=1.4.2 in /opt/conda/lib/python3.7/site-packages (from black<22.0,>=21.5b0->pretty-confusion-matrix) (1.5.4)\r\n",
      "Requirement already satisfied: typing-extensions>=3.10.0.0 in /opt/conda/lib/python3.7/site-packages (from black<22.0,>=21.5b0->pretty-confusion-matrix) (4.1.1)\r\n",
      "Requirement already satisfied: pathspec<1,>=0.9.0 in /opt/conda/lib/python3.7/site-packages (from black<22.0,>=21.5b0->pretty-confusion-matrix) (0.9.0)\r\n",
      "Requirement already satisfied: click>=7.1.2 in /opt/conda/lib/python3.7/site-packages (from black<22.0,>=21.5b0->pretty-confusion-matrix) (8.0.4)\r\n",
      "Requirement already satisfied: platformdirs>=2 in /opt/conda/lib/python3.7/site-packages (from black<22.0,>=21.5b0->pretty-confusion-matrix) (2.5.1)\r\n",
      "Collecting pyflakes<2.4.0,>=2.3.0\r\n",
      "  Downloading pyflakes-2.3.1-py2.py3-none-any.whl (68 kB)\r\n",
      "\u001b[2K     \u001b[90m━━━━━━━━━━━━━━━━━━━━━━━━━━━━━━━━━━━━━━━━\u001b[0m \u001b[32m68.8/68.8 kB\u001b[0m \u001b[31m6.3 MB/s\u001b[0m eta \u001b[36m0:00:00\u001b[0m\r\n",
      "\u001b[?25hCollecting pycodestyle<2.8.0,>=2.7.0\r\n",
      "  Downloading pycodestyle-2.7.0-py2.py3-none-any.whl (41 kB)\r\n",
      "\u001b[2K     \u001b[90m━━━━━━━━━━━━━━━━━━━━━━━━━━━━━━━━━━━━━━━━\u001b[0m \u001b[32m41.7/41.7 kB\u001b[0m \u001b[31m4.3 MB/s\u001b[0m eta \u001b[36m0:00:00\u001b[0m\r\n",
      "\u001b[?25hRequirement already satisfied: importlib-metadata in /opt/conda/lib/python3.7/site-packages (from flake8<4.0.0,>=3.9.2->pretty-confusion-matrix) (4.13.0)\r\n",
      "Requirement already satisfied: mccabe<0.7.0,>=0.6.0 in /opt/conda/lib/python3.7/site-packages (from flake8<4.0.0,>=3.9.2->pretty-confusion-matrix) (0.6.1)\r\n",
      "Requirement already satisfied: pyparsing>=2.2.1 in /opt/conda/lib/python3.7/site-packages (from matplotlib<4.0.0,>=3.5.0->pretty-confusion-matrix) (3.0.9)\r\n",
      "Requirement already satisfied: cycler>=0.10 in /opt/conda/lib/python3.7/site-packages (from matplotlib<4.0.0,>=3.5.0->pretty-confusion-matrix) (0.11.0)\r\n",
      "Requirement already satisfied: kiwisolver>=1.0.1 in /opt/conda/lib/python3.7/site-packages (from matplotlib<4.0.0,>=3.5.0->pretty-confusion-matrix) (1.4.3)\r\n",
      "Requirement already satisfied: fonttools>=4.22.0 in /opt/conda/lib/python3.7/site-packages (from matplotlib<4.0.0,>=3.5.0->pretty-confusion-matrix) (4.33.3)\r\n",
      "Requirement already satisfied: pillow>=6.2.0 in /opt/conda/lib/python3.7/site-packages (from matplotlib<4.0.0,>=3.5.0->pretty-confusion-matrix) (9.1.1)\r\n",
      "Requirement already satisfied: packaging>=20.0 in /opt/conda/lib/python3.7/site-packages (from matplotlib<4.0.0,>=3.5.0->pretty-confusion-matrix) (21.3)\r\n",
      "Requirement already satisfied: python-dateutil>=2.7 in /opt/conda/lib/python3.7/site-packages (from matplotlib<4.0.0,>=3.5.0->pretty-confusion-matrix) (2.8.2)\r\n",
      "Requirement already satisfied: pytz>=2017.3 in /opt/conda/lib/python3.7/site-packages (from pandas<2.0.0,>=1.3.4->pretty-confusion-matrix) (2022.1)\r\n",
      "Requirement already satisfied: pyyaml>=5.1 in /opt/conda/lib/python3.7/site-packages (from pre-commit<3.0.0,>=2.12.1->pretty-confusion-matrix) (6.0)\r\n",
      "Collecting nodeenv>=0.11.1\r\n",
      "  Downloading nodeenv-1.7.0-py2.py3-none-any.whl (21 kB)\r\n",
      "Requirement already satisfied: toml in /opt/conda/lib/python3.7/site-packages (from pre-commit<3.0.0,>=2.12.1->pretty-confusion-matrix) (0.10.2)\r\n",
      "Collecting identify>=1.0.0\r\n",
      "  Downloading identify-2.5.9-py2.py3-none-any.whl (98 kB)\r\n",
      "\u001b[2K     \u001b[90m━━━━━━━━━━━━━━━━━━━━━━━━━━━━━━━━━━━━━━━━\u001b[0m \u001b[32m98.8/98.8 kB\u001b[0m \u001b[31m6.8 MB/s\u001b[0m eta \u001b[36m0:00:00\u001b[0m\r\n",
      "\u001b[?25hRequirement already satisfied: virtualenv>=20.0.8 in /opt/conda/lib/python3.7/site-packages (from pre-commit<3.0.0,>=2.12.1->pretty-confusion-matrix) (20.16.5)\r\n",
      "Collecting cfgv>=2.0.0\r\n",
      "  Downloading cfgv-3.3.1-py2.py3-none-any.whl (7.3 kB)\r\n",
      "Requirement already satisfied: scipy>=1.0 in /opt/conda/lib/python3.7/site-packages (from seaborn<0.12.0,>=0.11.2->pretty-confusion-matrix) (1.7.3)\r\n",
      "Requirement already satisfied: scikit-learn in /opt/conda/lib/python3.7/site-packages (from sklearn<0.1,>=0.0->pretty-confusion-matrix) (1.0.2)\r\n",
      "Requirement already satisfied: setuptools in /opt/conda/lib/python3.7/site-packages (from nodeenv>=0.11.1->pre-commit<3.0.0,>=2.12.1->pretty-confusion-matrix) (59.8.0)\r\n",
      "Requirement already satisfied: six>=1.5 in /opt/conda/lib/python3.7/site-packages (from python-dateutil>=2.7->matplotlib<4.0.0,>=3.5.0->pretty-confusion-matrix) (1.15.0)\r\n",
      "Requirement already satisfied: distlib<1,>=0.3.5 in /opt/conda/lib/python3.7/site-packages (from virtualenv>=20.0.8->pre-commit<3.0.0,>=2.12.1->pretty-confusion-matrix) (0.3.6)\r\n",
      "Requirement already satisfied: filelock<4,>=3.4.1 in /opt/conda/lib/python3.7/site-packages (from virtualenv>=20.0.8->pre-commit<3.0.0,>=2.12.1->pretty-confusion-matrix) (3.7.1)\r\n",
      "Requirement already satisfied: zipp>=0.5 in /opt/conda/lib/python3.7/site-packages (from importlib-metadata->flake8<4.0.0,>=3.9.2->pretty-confusion-matrix) (3.8.0)\r\n",
      "Requirement already satisfied: threadpoolctl>=2.0.0 in /opt/conda/lib/python3.7/site-packages (from scikit-learn->sklearn<0.1,>=0.0->pretty-confusion-matrix) (3.1.0)\r\n",
      "Requirement already satisfied: joblib>=0.11 in /opt/conda/lib/python3.7/site-packages (from scikit-learn->sklearn<0.1,>=0.0->pretty-confusion-matrix) (1.0.1)\r\n",
      "Installing collected packages: tomli, pyflakes, pycodestyle, nodeenv, identify, cfgv, flake8, pre-commit, black, pretty-confusion-matrix\r\n",
      "  Attempting uninstall: tomli\r\n",
      "    Found existing installation: tomli 2.0.1\r\n",
      "    Uninstalling tomli-2.0.1:\r\n",
      "      Successfully uninstalled tomli-2.0.1\r\n",
      "  Attempting uninstall: pyflakes\r\n",
      "    Found existing installation: pyflakes 2.4.0\r\n",
      "    Uninstalling pyflakes-2.4.0:\r\n",
      "      Successfully uninstalled pyflakes-2.4.0\r\n",
      "  Attempting uninstall: pycodestyle\r\n",
      "    Found existing installation: pycodestyle 2.8.0\r\n",
      "    Uninstalling pycodestyle-2.8.0:\r\n",
      "      Successfully uninstalled pycodestyle-2.8.0\r\n",
      "  Attempting uninstall: flake8\r\n",
      "    Found existing installation: flake8 4.0.1\r\n",
      "    Uninstalling flake8-4.0.1:\r\n",
      "      Successfully uninstalled flake8-4.0.1\r\n",
      "  Attempting uninstall: black\r\n",
      "    Found existing installation: black 22.6.0\r\n",
      "    Uninstalling black-22.6.0:\r\n",
      "      Successfully uninstalled black-22.6.0\r\n",
      "\u001b[31mERROR: pip's dependency resolver does not currently take into account all the packages that are installed. This behaviour is the source of the following dependency conflicts.\r\n",
      "pytoolconfig 1.2.2 requires tomli>=2.0; python_version < \"3.11\", but you have tomli 1.2.3 which is incompatible.\r\n",
      "autopep8 1.6.0 requires pycodestyle>=2.8.0, but you have pycodestyle 2.7.0 which is incompatible.\u001b[0m\u001b[31m\r\n",
      "\u001b[0mSuccessfully installed black-21.12b0 cfgv-3.3.1 flake8-3.9.2 identify-2.5.9 nodeenv-1.7.0 pre-commit-2.20.0 pretty-confusion-matrix-0.1.1 pycodestyle-2.7.0 pyflakes-2.3.1 tomli-1.2.3\r\n",
      "\u001b[33mWARNING: Running pip as the 'root' user can result in broken permissions and conflicting behaviour with the system package manager. It is recommended to use a virtual environment instead: https://pip.pypa.io/warnings/venv\u001b[0m\u001b[33m\r\n",
      "\u001b[0mRequirement already satisfied: transformers in /opt/conda/lib/python3.7/site-packages (4.20.1)\r\n",
      "Requirement already satisfied: filelock in /opt/conda/lib/python3.7/site-packages (from transformers) (3.7.1)\r\n",
      "Requirement already satisfied: regex!=2019.12.17 in /opt/conda/lib/python3.7/site-packages (from transformers) (2021.11.10)\r\n",
      "Requirement already satisfied: requests in /opt/conda/lib/python3.7/site-packages (from transformers) (2.28.1)\r\n",
      "Requirement already satisfied: tqdm>=4.27 in /opt/conda/lib/python3.7/site-packages (from transformers) (4.64.0)\r\n",
      "Requirement already satisfied: packaging>=20.0 in /opt/conda/lib/python3.7/site-packages (from transformers) (21.3)\r\n",
      "Requirement already satisfied: importlib-metadata in /opt/conda/lib/python3.7/site-packages (from transformers) (4.13.0)\r\n",
      "Requirement already satisfied: tokenizers!=0.11.3,<0.13,>=0.11.1 in /opt/conda/lib/python3.7/site-packages (from transformers) (0.12.1)\r\n",
      "Requirement already satisfied: huggingface-hub<1.0,>=0.1.0 in /opt/conda/lib/python3.7/site-packages (from transformers) (0.10.1)\r\n",
      "Requirement already satisfied: pyyaml>=5.1 in /opt/conda/lib/python3.7/site-packages (from transformers) (6.0)\r\n",
      "Requirement already satisfied: numpy>=1.17 in /opt/conda/lib/python3.7/site-packages (from transformers) (1.21.6)\r\n",
      "Requirement already satisfied: typing-extensions>=3.7.4.3 in /opt/conda/lib/python3.7/site-packages (from huggingface-hub<1.0,>=0.1.0->transformers) (4.1.1)\r\n",
      "Requirement already satisfied: pyparsing!=3.0.5,>=2.0.2 in /opt/conda/lib/python3.7/site-packages (from packaging>=20.0->transformers) (3.0.9)\r\n",
      "Requirement already satisfied: zipp>=0.5 in /opt/conda/lib/python3.7/site-packages (from importlib-metadata->transformers) (3.8.0)\r\n",
      "Requirement already satisfied: urllib3<1.27,>=1.21.1 in /opt/conda/lib/python3.7/site-packages (from requests->transformers) (1.26.12)\r\n",
      "Requirement already satisfied: idna<4,>=2.5 in /opt/conda/lib/python3.7/site-packages (from requests->transformers) (3.3)\r\n",
      "Requirement already satisfied: certifi>=2017.4.17 in /opt/conda/lib/python3.7/site-packages (from requests->transformers) (2022.9.24)\r\n",
      "Requirement already satisfied: charset-normalizer<3,>=2 in /opt/conda/lib/python3.7/site-packages (from requests->transformers) (2.1.0)\r\n",
      "\u001b[33mWARNING: Running pip as the 'root' user can result in broken permissions and conflicting behaviour with the system package manager. It is recommended to use a virtual environment instead: https://pip.pypa.io/warnings/venv\u001b[0m\u001b[33m\r\n",
      "\u001b[0mCollecting pytorch-transformers\r\n",
      "  Downloading pytorch_transformers-1.2.0-py3-none-any.whl (176 kB)\r\n",
      "\u001b[2K     \u001b[90m━━━━━━━━━━━━━━━━━━━━━━━━━━━━━━━━━━━━━━━\u001b[0m \u001b[32m176.4/176.4 kB\u001b[0m \u001b[31m1.2 MB/s\u001b[0m eta \u001b[36m0:00:00\u001b[0m\r\n",
      "\u001b[?25hRequirement already satisfied: boto3 in /opt/conda/lib/python3.7/site-packages (from pytorch-transformers) (1.24.93)\r\n",
      "Requirement already satisfied: regex in /opt/conda/lib/python3.7/site-packages (from pytorch-transformers) (2021.11.10)\r\n",
      "Requirement already satisfied: requests in /opt/conda/lib/python3.7/site-packages (from pytorch-transformers) (2.28.1)\r\n",
      "Requirement already satisfied: sacremoses in /opt/conda/lib/python3.7/site-packages (from pytorch-transformers) (0.0.53)\r\n",
      "Requirement already satisfied: sentencepiece in /opt/conda/lib/python3.7/site-packages (from pytorch-transformers) (0.1.97)\r\n",
      "Requirement already satisfied: tqdm in /opt/conda/lib/python3.7/site-packages (from pytorch-transformers) (4.64.0)\r\n",
      "Requirement already satisfied: numpy in /opt/conda/lib/python3.7/site-packages (from pytorch-transformers) (1.21.6)\r\n",
      "Requirement already satisfied: torch>=1.0.0 in /opt/conda/lib/python3.7/site-packages (from pytorch-transformers) (1.11.0)\r\n",
      "Requirement already satisfied: typing-extensions in /opt/conda/lib/python3.7/site-packages (from torch>=1.0.0->pytorch-transformers) (4.1.1)\r\n",
      "Requirement already satisfied: jmespath<2.0.0,>=0.7.1 in /opt/conda/lib/python3.7/site-packages (from boto3->pytorch-transformers) (1.0.1)\r\n",
      "Requirement already satisfied: botocore<1.28.0,>=1.27.93 in /opt/conda/lib/python3.7/site-packages (from boto3->pytorch-transformers) (1.27.93)\r\n",
      "Requirement already satisfied: s3transfer<0.7.0,>=0.6.0 in /opt/conda/lib/python3.7/site-packages (from boto3->pytorch-transformers) (0.6.0)\r\n",
      "Requirement already satisfied: idna<4,>=2.5 in /opt/conda/lib/python3.7/site-packages (from requests->pytorch-transformers) (3.3)\r\n",
      "Requirement already satisfied: certifi>=2017.4.17 in /opt/conda/lib/python3.7/site-packages (from requests->pytorch-transformers) (2022.9.24)\r\n",
      "Requirement already satisfied: charset-normalizer<3,>=2 in /opt/conda/lib/python3.7/site-packages (from requests->pytorch-transformers) (2.1.0)\r\n",
      "Requirement already satisfied: urllib3<1.27,>=1.21.1 in /opt/conda/lib/python3.7/site-packages (from requests->pytorch-transformers) (1.26.12)\r\n",
      "Requirement already satisfied: click in /opt/conda/lib/python3.7/site-packages (from sacremoses->pytorch-transformers) (8.0.4)\r\n",
      "Requirement already satisfied: joblib in /opt/conda/lib/python3.7/site-packages (from sacremoses->pytorch-transformers) (1.0.1)\r\n",
      "Requirement already satisfied: six in /opt/conda/lib/python3.7/site-packages (from sacremoses->pytorch-transformers) (1.15.0)\r\n",
      "Requirement already satisfied: python-dateutil<3.0.0,>=2.1 in /opt/conda/lib/python3.7/site-packages (from botocore<1.28.0,>=1.27.93->boto3->pytorch-transformers) (2.8.2)\r\n",
      "Requirement already satisfied: importlib-metadata in /opt/conda/lib/python3.7/site-packages (from click->sacremoses->pytorch-transformers) (4.13.0)\r\n",
      "Requirement already satisfied: zipp>=0.5 in /opt/conda/lib/python3.7/site-packages (from importlib-metadata->click->sacremoses->pytorch-transformers) (3.8.0)\r\n",
      "Installing collected packages: pytorch-transformers\r\n",
      "Successfully installed pytorch-transformers-1.2.0\r\n",
      "\u001b[33mWARNING: Running pip as the 'root' user can result in broken permissions and conflicting behaviour with the system package manager. It is recommended to use a virtual environment instead: https://pip.pypa.io/warnings/venv\u001b[0m\u001b[33m\r\n",
      "\u001b[0mCollecting sentence-transformers\r\n",
      "  Downloading sentence-transformers-2.2.2.tar.gz (85 kB)\r\n",
      "\u001b[2K     \u001b[90m━━━━━━━━━━━━━━━━━━━━━━━━━━━━━━━━━━━━━━━\u001b[0m \u001b[32m86.0/86.0 kB\u001b[0m \u001b[31m950.5 kB/s\u001b[0m eta \u001b[36m0:00:00\u001b[0m\r\n",
      "\u001b[?25h  Preparing metadata (setup.py) ... \u001b[?25l-\b \bdone\r\n",
      "\u001b[?25hRequirement already satisfied: transformers<5.0.0,>=4.6.0 in /opt/conda/lib/python3.7/site-packages (from sentence-transformers) (4.20.1)\r\n",
      "Requirement already satisfied: tqdm in /opt/conda/lib/python3.7/site-packages (from sentence-transformers) (4.64.0)\r\n",
      "Requirement already satisfied: torch>=1.6.0 in /opt/conda/lib/python3.7/site-packages (from sentence-transformers) (1.11.0)\r\n",
      "Requirement already satisfied: torchvision in /opt/conda/lib/python3.7/site-packages (from sentence-transformers) (0.12.0)\r\n",
      "Requirement already satisfied: numpy in /opt/conda/lib/python3.7/site-packages (from sentence-transformers) (1.21.6)\r\n",
      "Requirement already satisfied: scikit-learn in /opt/conda/lib/python3.7/site-packages (from sentence-transformers) (1.0.2)\r\n",
      "Requirement already satisfied: scipy in /opt/conda/lib/python3.7/site-packages (from sentence-transformers) (1.7.3)\r\n",
      "Requirement already satisfied: nltk in /opt/conda/lib/python3.7/site-packages (from sentence-transformers) (3.7)\r\n",
      "Requirement already satisfied: sentencepiece in /opt/conda/lib/python3.7/site-packages (from sentence-transformers) (0.1.97)\r\n",
      "Requirement already satisfied: huggingface-hub>=0.4.0 in /opt/conda/lib/python3.7/site-packages (from sentence-transformers) (0.10.1)\r\n",
      "Requirement already satisfied: packaging>=20.9 in /opt/conda/lib/python3.7/site-packages (from huggingface-hub>=0.4.0->sentence-transformers) (21.3)\r\n",
      "Requirement already satisfied: pyyaml>=5.1 in /opt/conda/lib/python3.7/site-packages (from huggingface-hub>=0.4.0->sentence-transformers) (6.0)\r\n",
      "Requirement already satisfied: requests in /opt/conda/lib/python3.7/site-packages (from huggingface-hub>=0.4.0->sentence-transformers) (2.28.1)\r\n",
      "Requirement already satisfied: importlib-metadata in /opt/conda/lib/python3.7/site-packages (from huggingface-hub>=0.4.0->sentence-transformers) (4.13.0)\r\n",
      "Requirement already satisfied: typing-extensions>=3.7.4.3 in /opt/conda/lib/python3.7/site-packages (from huggingface-hub>=0.4.0->sentence-transformers) (4.1.1)\r\n",
      "Requirement already satisfied: filelock in /opt/conda/lib/python3.7/site-packages (from huggingface-hub>=0.4.0->sentence-transformers) (3.7.1)\r\n",
      "Requirement already satisfied: regex!=2019.12.17 in /opt/conda/lib/python3.7/site-packages (from transformers<5.0.0,>=4.6.0->sentence-transformers) (2021.11.10)\r\n",
      "Requirement already satisfied: tokenizers!=0.11.3,<0.13,>=0.11.1 in /opt/conda/lib/python3.7/site-packages (from transformers<5.0.0,>=4.6.0->sentence-transformers) (0.12.1)\r\n",
      "Requirement already satisfied: click in /opt/conda/lib/python3.7/site-packages (from nltk->sentence-transformers) (8.0.4)\r\n",
      "Requirement already satisfied: joblib in /opt/conda/lib/python3.7/site-packages (from nltk->sentence-transformers) (1.0.1)\r\n",
      "Requirement already satisfied: threadpoolctl>=2.0.0 in /opt/conda/lib/python3.7/site-packages (from scikit-learn->sentence-transformers) (3.1.0)\r\n",
      "Requirement already satisfied: pillow!=8.3.*,>=5.3.0 in /opt/conda/lib/python3.7/site-packages (from torchvision->sentence-transformers) (9.1.1)\r\n",
      "Requirement already satisfied: pyparsing!=3.0.5,>=2.0.2 in /opt/conda/lib/python3.7/site-packages (from packaging>=20.9->huggingface-hub>=0.4.0->sentence-transformers) (3.0.9)\r\n",
      "Requirement already satisfied: zipp>=0.5 in /opt/conda/lib/python3.7/site-packages (from importlib-metadata->huggingface-hub>=0.4.0->sentence-transformers) (3.8.0)\r\n",
      "Requirement already satisfied: idna<4,>=2.5 in /opt/conda/lib/python3.7/site-packages (from requests->huggingface-hub>=0.4.0->sentence-transformers) (3.3)\r\n",
      "Requirement already satisfied: urllib3<1.27,>=1.21.1 in /opt/conda/lib/python3.7/site-packages (from requests->huggingface-hub>=0.4.0->sentence-transformers) (1.26.12)\r\n",
      "Requirement already satisfied: charset-normalizer<3,>=2 in /opt/conda/lib/python3.7/site-packages (from requests->huggingface-hub>=0.4.0->sentence-transformers) (2.1.0)\r\n",
      "Requirement already satisfied: certifi>=2017.4.17 in /opt/conda/lib/python3.7/site-packages (from requests->huggingface-hub>=0.4.0->sentence-transformers) (2022.9.24)\r\n",
      "Building wheels for collected packages: sentence-transformers\r\n",
      "  Building wheel for sentence-transformers (setup.py) ... \u001b[?25l-\b \b\\\b \bdone\r\n",
      "\u001b[?25h  Created wheel for sentence-transformers: filename=sentence_transformers-2.2.2-py3-none-any.whl size=125938 sha256=54f2a389bff8b63142327f0d4ebeaa4c4af885646377bacf95eb001c2f141665\r\n",
      "  Stored in directory: /root/.cache/pip/wheels/bf/06/fb/d59c1e5bd1dac7f6cf61ec0036cc3a10ab8fecaa6b2c3d3ee9\r\n",
      "Successfully built sentence-transformers\r\n",
      "Installing collected packages: sentence-transformers\r\n",
      "Successfully installed sentence-transformers-2.2.2\r\n",
      "\u001b[33mWARNING: Running pip as the 'root' user can result in broken permissions and conflicting behaviour with the system package manager. It is recommended to use a virtual environment instead: https://pip.pypa.io/warnings/venv\u001b[0m\u001b[33m\r\n",
      "\u001b[0m"
     ]
    }
   ],
   "source": [
    "!pip install pretty-confusion-matrix\n",
    "!pip install transformers\n",
    "!pip install pytorch-transformers\n",
    "!pip install -U sentence-transformers"
   ]
  },
  {
   "cell_type": "code",
   "execution_count": 2,
   "id": "26eb4fe9",
   "metadata": {
    "execution": {
     "iopub.execute_input": "2022-12-05T04:17:14.848707Z",
     "iopub.status.busy": "2022-12-05T04:17:14.847105Z",
     "iopub.status.idle": "2022-12-05T04:17:14.852797Z",
     "shell.execute_reply": "2022-12-05T04:17:14.851904Z"
    },
    "papermill": {
     "duration": 0.023288,
     "end_time": "2022-12-05T04:17:14.854782",
     "exception": false,
     "start_time": "2022-12-05T04:17:14.831494",
     "status": "completed"
    },
    "tags": []
   },
   "outputs": [],
   "source": [
    "import numpy as np \n",
    "import pandas as pd \n",
    "import csv\n",
    "import pickle\n",
    "import matplotlib.pyplot as plt"
   ]
  },
  {
   "cell_type": "code",
   "execution_count": 3,
   "id": "f66ea10b",
   "metadata": {
    "execution": {
     "iopub.execute_input": "2022-12-05T04:17:14.882156Z",
     "iopub.status.busy": "2022-12-05T04:17:14.880541Z",
     "iopub.status.idle": "2022-12-05T04:17:19.079926Z",
     "shell.execute_reply": "2022-12-05T04:17:19.078875Z"
    },
    "papermill": {
     "duration": 4.215198,
     "end_time": "2022-12-05T04:17:19.082295",
     "exception": false,
     "start_time": "2022-12-05T04:17:14.867097",
     "status": "completed"
    },
    "tags": []
   },
   "outputs": [],
   "source": [
    "import tensorflow as tf\n",
    "from keras.layers import Bidirectional, Input, Dense, Layer, Dropout, LSTM, RepeatVector, Concatenate, Flatten\n",
    "from keras.models import Sequential, Model\n",
    "from tensorflow.python.keras.callbacks import EarlyStopping\n",
    "from keras import backend as K"
   ]
  },
  {
   "cell_type": "code",
   "execution_count": 4,
   "id": "049a0d87",
   "metadata": {
    "execution": {
     "iopub.execute_input": "2022-12-05T04:17:19.109167Z",
     "iopub.status.busy": "2022-12-05T04:17:19.108660Z",
     "iopub.status.idle": "2022-12-05T04:17:19.113800Z",
     "shell.execute_reply": "2022-12-05T04:17:19.112851Z"
    },
    "papermill": {
     "duration": 0.020949,
     "end_time": "2022-12-05T04:17:19.115938",
     "exception": false,
     "start_time": "2022-12-05T04:17:19.094989",
     "status": "completed"
    },
    "tags": []
   },
   "outputs": [
    {
     "name": "stdout",
     "output_type": "stream",
     "text": [
      "2.6.4\n"
     ]
    }
   ],
   "source": [
    "print(tf.__version__)"
   ]
  },
  {
   "cell_type": "code",
   "execution_count": 5,
   "id": "7ea8094e",
   "metadata": {
    "execution": {
     "iopub.execute_input": "2022-12-05T04:17:19.141754Z",
     "iopub.status.busy": "2022-12-05T04:17:19.141119Z",
     "iopub.status.idle": "2022-12-05T04:17:19.146970Z",
     "shell.execute_reply": "2022-12-05T04:17:19.146149Z"
    },
    "papermill": {
     "duration": 0.020914,
     "end_time": "2022-12-05T04:17:19.149018",
     "exception": false,
     "start_time": "2022-12-05T04:17:19.128104",
     "status": "completed"
    },
    "tags": []
   },
   "outputs": [],
   "source": [
    "### HYPERPARAMETERS\n",
    "POLITENESS_LEVELS = 5\n",
    "EPOCHS = 30\n",
    "MAXLEN = 768 # Since SciBERT returns 768 embeddings vector\n",
    "LSTM_UNITS = 256\n",
    "is_BiLSTM = False # Flag to automate other pre-processing for With or Without BiLSTM variants\n",
    "\n",
    "## ADD PATH OF THE PRE-TRAINED MODEL HERE ##\n",
    "SAVE_PATH = \"./Ablation-Model.h5\" "
   ]
  },
  {
   "cell_type": "code",
   "execution_count": 6,
   "id": "516a2e80",
   "metadata": {
    "execution": {
     "iopub.execute_input": "2022-12-05T04:17:19.174728Z",
     "iopub.status.busy": "2022-12-05T04:17:19.174469Z",
     "iopub.status.idle": "2022-12-05T04:17:19.178779Z",
     "shell.execute_reply": "2022-12-05T04:17:19.177733Z"
    },
    "papermill": {
     "duration": 0.019402,
     "end_time": "2022-12-05T04:17:19.180900",
     "exception": false,
     "start_time": "2022-12-05T04:17:19.161498",
     "status": "completed"
    },
    "tags": []
   },
   "outputs": [],
   "source": [
    "### CHOOSE THE EMBEDDING VARIANT YOU WANT TO TRY ###\n",
    "\n",
    "## SCI-BERT \n",
    "# name = 'SCIBERT'\n",
    "# embed_model_name = 'gsarti/scibert-nli'\n",
    "\n",
    "## TOXIC-BERT\n",
    "# name = 'TOXIC-BERT'\n",
    "# embed_model_name = 'troesy/toxicBERT_3epoch'\n",
    "\n",
    "## HATE-BERT\n",
    "name = 'HATE-BERT'\n",
    "embed_model_name = 'GroNLP/hateBERT'"
   ]
  },
  {
   "cell_type": "markdown",
   "id": "dcf6d87b",
   "metadata": {
    "papermill": {
     "duration": 0.012006,
     "end_time": "2022-12-05T04:17:19.205066",
     "exception": false,
     "start_time": "2022-12-05T04:17:19.193060",
     "status": "completed"
    },
    "tags": []
   },
   "source": [
    "# LOAD DATASET"
   ]
  },
  {
   "cell_type": "code",
   "execution_count": 7,
   "id": "e5e6a389",
   "metadata": {
    "execution": {
     "iopub.execute_input": "2022-12-05T04:17:19.230701Z",
     "iopub.status.busy": "2022-12-05T04:17:19.230421Z",
     "iopub.status.idle": "2022-12-05T04:17:19.237641Z",
     "shell.execute_reply": "2022-12-05T04:17:19.236678Z"
    },
    "papermill": {
     "duration": 0.022225,
     "end_time": "2022-12-05T04:17:19.239544",
     "exception": false,
     "start_time": "2022-12-05T04:17:19.217319",
     "status": "completed"
    },
    "tags": []
   },
   "outputs": [],
   "source": [
    "# LOAD EMBEDS DATASET\n",
    "\n",
    "def loadPickle(name):\n",
    "    start_path = '/kaggle/input/iitpolitenesslevels/'\n",
    "    LOAD_PATH = start_path+name+'_train.pickle'\n",
    "    with open(LOAD_PATH, 'rb') as handle:\n",
    "        train_embeds = pickle.load(handle)\n",
    "        handle.close()\n",
    "\n",
    "    LOAD_PATH = start_path+name+'_test.pickle'\n",
    "    with open(LOAD_PATH, 'rb') as handle:\n",
    "        test_embeds = pickle.load(handle)\n",
    "        handle.close()\n",
    "        \n",
    "    LOAD_PATH = start_path+name+'_val.pickle'\n",
    "    with open(LOAD_PATH, 'rb') as handle:\n",
    "        val_embeds = pickle.load(handle)\n",
    "        handle.close()\n",
    "        \n",
    "    y_train = pd.read_csv(start_path+'y_train.csv')\n",
    "    y_val = pd.read_csv(start_path+'y_val.csv')\n",
    "    y_test = pd.read_csv(start_path+'y_test.csv')\n",
    "    \n",
    "    print('\\n***** LOADED '+ name+' *****\\n')\n",
    "    print(f'TRAIN SHAPE : {train_embeds.shape}\\nTEST SHAPE : {test_embeds.shape}\\nVAL SHAPE : {val_embeds.shape}\\nY-TRAIN SHAPE : {y_train.shape}\\nY-TEST SHAPE : {y_test.shape}\\nY-VAL SHAPE : {y_val.shape}')\n",
    "\n",
    "    return train_embeds, test_embeds, val_embeds, y_train, y_test, y_val\n",
    "\n",
    "# /kaggle/input/iitpolitenesslevels/SCIBERT_train.pickle"
   ]
  },
  {
   "cell_type": "code",
   "execution_count": 8,
   "id": "b1c36e68",
   "metadata": {
    "execution": {
     "iopub.execute_input": "2022-12-05T04:17:19.265358Z",
     "iopub.status.busy": "2022-12-05T04:17:19.265107Z",
     "iopub.status.idle": "2022-12-05T04:17:22.484764Z",
     "shell.execute_reply": "2022-12-05T04:17:22.483494Z"
    },
    "papermill": {
     "duration": 3.236072,
     "end_time": "2022-12-05T04:17:22.487903",
     "exception": false,
     "start_time": "2022-12-05T04:17:19.251831",
     "status": "completed"
    },
    "tags": []
   },
   "outputs": [
    {
     "name": "stderr",
     "output_type": "stream",
     "text": [
      "2022-12-05 04:17:19.868070: I tensorflow/stream_executor/cuda/cuda_gpu_executor.cc:937] successful NUMA node read from SysFS had negative value (-1), but there must be at least one NUMA node, so returning NUMA node zero\n"
     ]
    },
    {
     "name": "stdout",
     "output_type": "stream",
     "text": [
      "\n",
      "***** LOADED HATE-BERT *****\n",
      "\n",
      "TRAIN SHAPE : (4556, 1, 768)\n",
      "TEST SHAPE : (855, 1, 768)\n",
      "VAL SHAPE : (284, 1, 768)\n",
      "Y-TRAIN SHAPE : (4556, 5)\n",
      "Y-TEST SHAPE : (855, 5)\n",
      "Y-VAL SHAPE : (284, 5)\n"
     ]
    },
    {
     "name": "stderr",
     "output_type": "stream",
     "text": [
      "2022-12-05 04:17:19.945784: I tensorflow/stream_executor/cuda/cuda_gpu_executor.cc:937] successful NUMA node read from SysFS had negative value (-1), but there must be at least one NUMA node, so returning NUMA node zero\n",
      "2022-12-05 04:17:19.946581: I tensorflow/stream_executor/cuda/cuda_gpu_executor.cc:937] successful NUMA node read from SysFS had negative value (-1), but there must be at least one NUMA node, so returning NUMA node zero\n",
      "2022-12-05 04:17:19.948483: I tensorflow/core/platform/cpu_feature_guard.cc:142] This TensorFlow binary is optimized with oneAPI Deep Neural Network Library (oneDNN) to use the following CPU instructions in performance-critical operations:  AVX2 AVX512F FMA\n",
      "To enable them in other operations, rebuild TensorFlow with the appropriate compiler flags.\n",
      "2022-12-05 04:17:19.948822: I tensorflow/stream_executor/cuda/cuda_gpu_executor.cc:937] successful NUMA node read from SysFS had negative value (-1), but there must be at least one NUMA node, so returning NUMA node zero\n",
      "2022-12-05 04:17:19.949664: I tensorflow/stream_executor/cuda/cuda_gpu_executor.cc:937] successful NUMA node read from SysFS had negative value (-1), but there must be at least one NUMA node, so returning NUMA node zero\n",
      "2022-12-05 04:17:19.950499: I tensorflow/stream_executor/cuda/cuda_gpu_executor.cc:937] successful NUMA node read from SysFS had negative value (-1), but there must be at least one NUMA node, so returning NUMA node zero\n",
      "2022-12-05 04:17:21.936314: I tensorflow/stream_executor/cuda/cuda_gpu_executor.cc:937] successful NUMA node read from SysFS had negative value (-1), but there must be at least one NUMA node, so returning NUMA node zero\n",
      "2022-12-05 04:17:21.937139: I tensorflow/stream_executor/cuda/cuda_gpu_executor.cc:937] successful NUMA node read from SysFS had negative value (-1), but there must be at least one NUMA node, so returning NUMA node zero\n",
      "2022-12-05 04:17:21.937855: I tensorflow/stream_executor/cuda/cuda_gpu_executor.cc:937] successful NUMA node read from SysFS had negative value (-1), but there must be at least one NUMA node, so returning NUMA node zero\n",
      "2022-12-05 04:17:21.938466: I tensorflow/core/common_runtime/gpu/gpu_device.cc:1510] Created device /job:localhost/replica:0/task:0/device:GPU:0 with 15401 MB memory:  -> device: 0, name: Tesla P100-PCIE-16GB, pci bus id: 0000:00:04.0, compute capability: 6.0\n"
     ]
    }
   ],
   "source": [
    "train_embeds, test_embeds, val_embeds, y_train, y_test, y_val = loadPickle(name)"
   ]
  },
  {
   "cell_type": "markdown",
   "id": "aa8aa64c",
   "metadata": {
    "papermill": {
     "duration": 0.01243,
     "end_time": "2022-12-05T04:17:22.514009",
     "exception": false,
     "start_time": "2022-12-05T04:17:22.501579",
     "status": "completed"
    },
    "tags": []
   },
   "source": [
    "### LOAD EMBEDDING MODEL"
   ]
  },
  {
   "cell_type": "code",
   "execution_count": 9,
   "id": "b74e4aef",
   "metadata": {
    "execution": {
     "iopub.execute_input": "2022-12-05T04:17:22.541296Z",
     "iopub.status.busy": "2022-12-05T04:17:22.540307Z",
     "iopub.status.idle": "2022-12-05T04:17:26.382615Z",
     "shell.execute_reply": "2022-12-05T04:17:26.381623Z"
    },
    "papermill": {
     "duration": 3.858392,
     "end_time": "2022-12-05T04:17:26.385127",
     "exception": false,
     "start_time": "2022-12-05T04:17:22.526735",
     "status": "completed"
    },
    "tags": []
   },
   "outputs": [],
   "source": [
    "from transformers import pipeline, AutoTokenizer, AutoModel"
   ]
  },
  {
   "cell_type": "code",
   "execution_count": 10,
   "id": "8d08bf4c",
   "metadata": {
    "execution": {
     "iopub.execute_input": "2022-12-05T04:17:26.411965Z",
     "iopub.status.busy": "2022-12-05T04:17:26.411630Z",
     "iopub.status.idle": "2022-12-05T04:17:55.171420Z",
     "shell.execute_reply": "2022-12-05T04:17:55.170308Z"
    },
    "papermill": {
     "duration": 28.776077,
     "end_time": "2022-12-05T04:17:55.174086",
     "exception": false,
     "start_time": "2022-12-05T04:17:26.398009",
     "status": "completed"
    },
    "tags": []
   },
   "outputs": [
    {
     "data": {
      "application/vnd.jupyter.widget-view+json": {
       "model_id": "ffd567465c0b4967949c779381381a1e",
       "version_major": 2,
       "version_minor": 0
      },
      "text/plain": [
       "Downloading:   0%|          | 0.00/151 [00:00<?, ?B/s]"
      ]
     },
     "metadata": {},
     "output_type": "display_data"
    },
    {
     "data": {
      "application/vnd.jupyter.widget-view+json": {
       "model_id": "73147550db444f62b80db402a9fa4325",
       "version_major": 2,
       "version_minor": 0
      },
      "text/plain": [
       "Downloading:   0%|          | 0.00/1.21k [00:00<?, ?B/s]"
      ]
     },
     "metadata": {},
     "output_type": "display_data"
    },
    {
     "data": {
      "application/vnd.jupyter.widget-view+json": {
       "model_id": "ce831db927594dc0a2b585c85ee34433",
       "version_major": 2,
       "version_minor": 0
      },
      "text/plain": [
       "Downloading:   0%|          | 0.00/226k [00:00<?, ?B/s]"
      ]
     },
     "metadata": {},
     "output_type": "display_data"
    },
    {
     "data": {
      "application/vnd.jupyter.widget-view+json": {
       "model_id": "9a476a90a63c45a48b2de264e7923613",
       "version_major": 2,
       "version_minor": 0
      },
      "text/plain": [
       "Downloading:   0%|          | 0.00/112 [00:00<?, ?B/s]"
      ]
     },
     "metadata": {},
     "output_type": "display_data"
    },
    {
     "data": {
      "application/vnd.jupyter.widget-view+json": {
       "model_id": "504a219414f74592914f2196f02c5b20",
       "version_major": 2,
       "version_minor": 0
      },
      "text/plain": [
       "Downloading:   0%|          | 0.00/420M [00:00<?, ?B/s]"
      ]
     },
     "metadata": {},
     "output_type": "display_data"
    },
    {
     "name": "stderr",
     "output_type": "stream",
     "text": [
      "Some weights of the model checkpoint at GroNLP/hateBERT were not used when initializing BertModel: ['cls.predictions.transform.dense.bias', 'cls.predictions.decoder.weight', 'cls.predictions.bias', 'cls.predictions.transform.LayerNorm.weight', 'cls.predictions.decoder.bias', 'cls.predictions.transform.LayerNorm.bias', 'cls.predictions.transform.dense.weight']\n",
      "- This IS expected if you are initializing BertModel from the checkpoint of a model trained on another task or with another architecture (e.g. initializing a BertForSequenceClassification model from a BertForPreTraining model).\n",
      "- This IS NOT expected if you are initializing BertModel from the checkpoint of a model that you expect to be exactly identical (initializing a BertForSequenceClassification model from a BertForSequenceClassification model).\n"
     ]
    }
   ],
   "source": [
    "tokenizer = AutoTokenizer.from_pretrained(embed_model_name) \n",
    "embed_model = AutoModel.from_pretrained(embed_model_name)"
   ]
  },
  {
   "cell_type": "code",
   "execution_count": 11,
   "id": "3d1e2c44",
   "metadata": {
    "execution": {
     "iopub.execute_input": "2022-12-05T04:17:55.205035Z",
     "iopub.status.busy": "2022-12-05T04:17:55.203339Z",
     "iopub.status.idle": "2022-12-05T04:17:55.484560Z",
     "shell.execute_reply": "2022-12-05T04:17:55.483506Z"
    },
    "papermill": {
     "duration": 0.29837,
     "end_time": "2022-12-05T04:17:55.486842",
     "exception": false,
     "start_time": "2022-12-05T04:17:55.188472",
     "status": "completed"
    },
    "tags": []
   },
   "outputs": [
    {
     "data": {
      "text/plain": [
       "torch.Size([1, 768])"
      ]
     },
     "execution_count": 11,
     "metadata": {},
     "output_type": "execute_result"
    }
   ],
   "source": [
    "def sent2embed(model, sent):\n",
    "    inputs = tokenizer(sent, return_tensors=\"pt\", padding=True, truncation=True, max_length=512)\n",
    "    outputs = model(**inputs)\n",
    "    last_hidden_states = outputs.last_hidden_state\n",
    "    return outputs\n",
    "\n",
    "# SAMPLE SCIBERT\n",
    "sent = ['This work studies the predictive uncertainty issue of deep learning models.']\n",
    "outputs = sent2embed(embed_model, sent)\n",
    "outputs[1].shape\n"
   ]
  },
  {
   "cell_type": "code",
   "execution_count": 12,
   "id": "8ddc35a6",
   "metadata": {
    "execution": {
     "iopub.execute_input": "2022-12-05T04:17:55.515255Z",
     "iopub.status.busy": "2022-12-05T04:17:55.514405Z",
     "iopub.status.idle": "2022-12-05T04:17:55.520743Z",
     "shell.execute_reply": "2022-12-05T04:17:55.519898Z"
    },
    "papermill": {
     "duration": 0.022533,
     "end_time": "2022-12-05T04:17:55.522819",
     "exception": false,
     "start_time": "2022-12-05T04:17:55.500286",
     "status": "completed"
    },
    "tags": []
   },
   "outputs": [],
   "source": [
    "# PRE-PROCESS\n",
    "def Embed(reviews, y_train, model):\n",
    "    embed_arr = []\n",
    "    start = reviews.index[0]\n",
    "    for idx in range(len(reviews.index)):\n",
    "        print(start + idx)\n",
    "        outputs = sent2embed(model, reviews.loc[start+idx])\n",
    "        embed_arr.append([outputs[1].detach().numpy()[0]])\n",
    "\n",
    "    embed_train_arr = tf.stack(embed_arr)\n",
    "\n",
    "    return embed_train_arr, y_train"
   ]
  },
  {
   "cell_type": "markdown",
   "id": "19c05468",
   "metadata": {
    "papermill": {
     "duration": 0.013152,
     "end_time": "2022-12-05T04:17:55.548954",
     "exception": false,
     "start_time": "2022-12-05T04:17:55.535802",
     "status": "completed"
    },
    "tags": []
   },
   "source": [
    "# MODEL\n",
    "\n",
    "### ATTENTION LAYER"
   ]
  },
  {
   "cell_type": "code",
   "execution_count": 13,
   "id": "5b25379b",
   "metadata": {
    "execution": {
     "iopub.execute_input": "2022-12-05T04:17:55.576773Z",
     "iopub.status.busy": "2022-12-05T04:17:55.575991Z",
     "iopub.status.idle": "2022-12-05T04:17:55.584951Z",
     "shell.execute_reply": "2022-12-05T04:17:55.584039Z"
    },
    "papermill": {
     "duration": 0.024929,
     "end_time": "2022-12-05T04:17:55.586958",
     "exception": false,
     "start_time": "2022-12-05T04:17:55.562029",
     "status": "completed"
    },
    "tags": []
   },
   "outputs": [],
   "source": [
    "class Attention(Layer):\n",
    "    \n",
    "    def __init__(self, return_sequences=True, **kwargs):\n",
    "        super(Attention,self).__init__()\n",
    "        self.return_sequences = return_sequences\n",
    "        super(Attention, self).__init__(**kwargs)\n",
    "\n",
    "    def get_config(self):\n",
    "        config = super(Attention, self).get_config().copy()\n",
    "        config.update({\n",
    "            'return_sequences': self.return_sequences , \n",
    "        })\n",
    "        return config\n",
    "\n",
    "\n",
    "    def build(self, input_shape):\n",
    "        \n",
    "        self.W=self.add_weight(name=\"att_weight\", shape=(input_shape[-1],1),\n",
    "                               initializer=\"normal\")\n",
    "        self.b=self.add_weight(name=\"att_bias\", shape=(input_shape[1],1),\n",
    "                               initializer=\"zeros\")\n",
    "        \n",
    "        super(Attention,self).build(input_shape)\n",
    "        \n",
    "    def call(self, x):\n",
    "        e =K.squeeze(K.tanh(K.dot(x,self.W)+self.b),axis=-1)\n",
    "        a =K.softmax(e)\n",
    "        a=K.expand_dims(a,axis=-1)\n",
    "        output = x*a\n",
    "        \n",
    "        return K.sum(output, axis=1) "
   ]
  },
  {
   "cell_type": "code",
   "execution_count": 14,
   "id": "5620f23f",
   "metadata": {
    "execution": {
     "iopub.execute_input": "2022-12-05T04:17:55.615549Z",
     "iopub.status.busy": "2022-12-05T04:17:55.614099Z",
     "iopub.status.idle": "2022-12-05T04:17:57.211848Z",
     "shell.execute_reply": "2022-12-05T04:17:57.210839Z"
    },
    "papermill": {
     "duration": 1.614354,
     "end_time": "2022-12-05T04:17:57.214345",
     "exception": false,
     "start_time": "2022-12-05T04:17:55.599991",
     "status": "completed"
    },
    "tags": []
   },
   "outputs": [],
   "source": [
    "if not is_BiLSTM:\n",
    "    ## ONLY IF BiLSTM NOT there -- REDUCE DIMENSION OF DATASET BY 1DIM \n",
    "    train_embeds = np.array([row[0] for row in train_embeds ])\n",
    "    test_embeds = np.array([row[0] for row in test_embeds ])\n",
    "    val_embeds = np.array([row[0] for row in val_embeds ])\n"
   ]
  },
  {
   "cell_type": "markdown",
   "id": "60f005e9",
   "metadata": {
    "papermill": {
     "duration": 0.012951,
     "end_time": "2022-12-05T04:17:57.240795",
     "exception": false,
     "start_time": "2022-12-05T04:17:57.227844",
     "status": "completed"
    },
    "tags": []
   },
   "source": [
    "## DEFINE MODELS"
   ]
  },
  {
   "cell_type": "markdown",
   "id": "3138c7a4",
   "metadata": {
    "papermill": {
     "duration": 0.0132,
     "end_time": "2022-12-05T04:17:57.267497",
     "exception": false,
     "start_time": "2022-12-05T04:17:57.254297",
     "status": "completed"
    },
    "tags": []
   },
   "source": [
    "### A) BiLSTM  "
   ]
  },
  {
   "cell_type": "code",
   "execution_count": 15,
   "id": "a1b47f03",
   "metadata": {
    "execution": {
     "iopub.execute_input": "2022-12-05T04:17:57.295243Z",
     "iopub.status.busy": "2022-12-05T04:17:57.294926Z",
     "iopub.status.idle": "2022-12-05T04:17:57.299279Z",
     "shell.execute_reply": "2022-12-05T04:17:57.298285Z"
    },
    "papermill": {
     "duration": 0.020529,
     "end_time": "2022-12-05T04:17:57.301424",
     "exception": false,
     "start_time": "2022-12-05T04:17:57.280895",
     "status": "completed"
    },
    "tags": []
   },
   "outputs": [],
   "source": [
    "# embed = Input(shape=  (MAXLEN, ), name='INPUT REVIEW') \n",
    "# embedding_layer = Embedding(input_dim = VOCAB_LEN, output_dim = EMBEDDING_DIMENSION, \n",
    "#                             weights=[Embedding_Matrix], input_length=MAXLEN, trainable=True, name='CUSTOM_EMBEDDING')(embed)\n",
    "# # print(embedding_layer.shape)\n",
    "# biLSTM = Bidirectional(LSTM(LSTM_UNITS ,dropout=0.2, return_sequences=False) , name='BILSTM' )(embedding_layer) \n",
    "\n",
    "# flatten = Flatten()(biLSTM)\n",
    "# politeness_output = Dense(POLITENESS_LEVELS, activation='softmax', name='POLITENESS_OUTPUT')(flatten)\n",
    "\n",
    "# model = Model(inputs=embed, outputs=politeness_output)"
   ]
  },
  {
   "cell_type": "markdown",
   "id": "d4c0d7cf",
   "metadata": {
    "papermill": {
     "duration": 0.012861,
     "end_time": "2022-12-05T04:17:57.327767",
     "exception": false,
     "start_time": "2022-12-05T04:17:57.314906",
     "status": "completed"
    },
    "tags": []
   },
   "source": [
    "### B) SCIBERT/ TOXIC-BERT / HATE-BERT VARIANTS"
   ]
  },
  {
   "cell_type": "code",
   "execution_count": 16,
   "id": "5e6e17e4",
   "metadata": {
    "execution": {
     "iopub.execute_input": "2022-12-05T04:17:57.355450Z",
     "iopub.status.busy": "2022-12-05T04:17:57.355160Z",
     "iopub.status.idle": "2022-12-05T04:17:59.705149Z",
     "shell.execute_reply": "2022-12-05T04:17:59.704167Z"
    },
    "papermill": {
     "duration": 2.366719,
     "end_time": "2022-12-05T04:17:59.707556",
     "exception": false,
     "start_time": "2022-12-05T04:17:57.340837",
     "status": "completed"
    },
    "tags": []
   },
   "outputs": [],
   "source": [
    "embed = Input(shape=  (MAXLEN,), name='INPUT') # without BiLSTM\n",
    "politeness_output = Dense(POLITENESS_LEVELS, activation='softmax', name='POLITENESS_OUTPUT')(embed)\n",
    "model = Model(inputs=embed, outputs=politeness_output)"
   ]
  },
  {
   "cell_type": "markdown",
   "id": "8da3dc12",
   "metadata": {
    "papermill": {
     "duration": 0.012996,
     "end_time": "2022-12-05T04:17:59.734301",
     "exception": false,
     "start_time": "2022-12-05T04:17:59.721305",
     "status": "completed"
    },
    "tags": []
   },
   "source": [
    "## COMPILE MODEL"
   ]
  },
  {
   "cell_type": "code",
   "execution_count": 17,
   "id": "50927250",
   "metadata": {
    "execution": {
     "iopub.execute_input": "2022-12-05T04:17:59.762953Z",
     "iopub.status.busy": "2022-12-05T04:17:59.762097Z",
     "iopub.status.idle": "2022-12-05T04:17:59.779035Z",
     "shell.execute_reply": "2022-12-05T04:17:59.777785Z"
    },
    "papermill": {
     "duration": 0.033528,
     "end_time": "2022-12-05T04:17:59.781121",
     "exception": false,
     "start_time": "2022-12-05T04:17:59.747593",
     "status": "completed"
    },
    "tags": []
   },
   "outputs": [
    {
     "name": "stdout",
     "output_type": "stream",
     "text": [
      "Model: \"model\"\n",
      "_________________________________________________________________\n",
      "Layer (type)                 Output Shape              Param #   \n",
      "=================================================================\n",
      "INPUT (InputLayer)           [(None, 768)]             0         \n",
      "_________________________________________________________________\n",
      "POLITENESS_OUTPUT (Dense)    (None, 5)                 3845      \n",
      "=================================================================\n",
      "Total params: 3,845\n",
      "Trainable params: 3,845\n",
      "Non-trainable params: 0\n",
      "_________________________________________________________________\n"
     ]
    }
   ],
   "source": [
    "# metrics =[ \n",
    "#     'accuracy', \n",
    "#     tf.keras.metrics.Precision(), \n",
    "#     tf.keras.metrics.Recall()\n",
    "# ]\n",
    "\n",
    "model.compile(loss= 'categorical_crossentropy',\n",
    "                        optimizer='adam', \n",
    "                        metrics=['accuracy']) \n",
    "\n",
    "\n",
    "model.summary()"
   ]
  },
  {
   "cell_type": "code",
   "execution_count": 18,
   "id": "1a561881",
   "metadata": {
    "execution": {
     "iopub.execute_input": "2022-12-05T04:17:59.809203Z",
     "iopub.status.busy": "2022-12-05T04:17:59.808389Z",
     "iopub.status.idle": "2022-12-05T04:18:00.765038Z",
     "shell.execute_reply": "2022-12-05T04:18:00.763925Z"
    },
    "papermill": {
     "duration": 0.972739,
     "end_time": "2022-12-05T04:18:00.767066",
     "exception": false,
     "start_time": "2022-12-05T04:17:59.794327",
     "status": "completed"
    },
    "tags": []
   },
   "outputs": [
    {
     "name": "stdout",
     "output_type": "stream",
     "text": [
      "huggingface/tokenizers: The current process just got forked, after parallelism has already been used. Disabling parallelism to avoid deadlocks...\n",
      "To disable this warning, you can either:\n",
      "\t- Avoid using `tokenizers` before the fork if possible\n",
      "\t- Explicitly set the environment variable TOKENIZERS_PARALLELISM=(true | false)\n",
      "huggingface/tokenizers: The current process just got forked, after parallelism has already been used. Disabling parallelism to avoid deadlocks...\n",
      "To disable this warning, you can either:\n",
      "\t- Avoid using `tokenizers` before the fork if possible\n",
      "\t- Explicitly set the environment variable TOKENIZERS_PARALLELISM=(true | false)\n"
     ]
    },
    {
     "data": {
      "image/png": "[encoded data removed]",
      "text/plain": [
       "<IPython.core.display.Image object>"
      ]
     },
     "execution_count": 18,
     "metadata": {},
     "output_type": "execute_result"
    }
   ],
   "source": [
    "tf.keras.utils.plot_model(model, to_file='politeness_model.png', show_shapes=True)"
   ]
  },
  {
   "cell_type": "markdown",
   "id": "68e4ade1",
   "metadata": {
    "papermill": {
     "duration": 0.013533,
     "end_time": "2022-12-05T04:18:00.794935",
     "exception": false,
     "start_time": "2022-12-05T04:18:00.781402",
     "status": "completed"
    },
    "tags": []
   },
   "source": [
    "## TRAIN MODEL"
   ]
  },
  {
   "cell_type": "code",
   "execution_count": 19,
   "id": "5adc5494",
   "metadata": {
    "execution": {
     "iopub.execute_input": "2022-12-05T04:18:00.824664Z",
     "iopub.status.busy": "2022-12-05T04:18:00.823740Z",
     "iopub.status.idle": "2022-12-05T04:18:12.191672Z",
     "shell.execute_reply": "2022-12-05T04:18:12.190487Z"
    },
    "papermill": {
     "duration": 11.386053,
     "end_time": "2022-12-05T04:18:12.194915",
     "exception": false,
     "start_time": "2022-12-05T04:18:00.808862",
     "status": "completed"
    },
    "tags": []
   },
   "outputs": [
    {
     "name": "stderr",
     "output_type": "stream",
     "text": [
      "2022-12-05 04:18:00.932858: I tensorflow/compiler/mlir/mlir_graph_optimization_pass.cc:185] None of the MLIR Optimization Passes are enabled (registered 2)\n"
     ]
    },
    {
     "name": "stdout",
     "output_type": "stream",
     "text": [
      "Epoch 1/30\n",
      "143/143 - 2s - loss: 1.5444 - accuracy: 0.2932 - val_loss: 1.4610 - val_accuracy: 0.3579\n",
      "Epoch 2/30\n",
      "143/143 - 0s - loss: 1.4237 - accuracy: 0.3946 - val_loss: 1.4045 - val_accuracy: 0.3789\n",
      "Epoch 3/30\n",
      "143/143 - 0s - loss: 1.3575 - accuracy: 0.4313 - val_loss: 1.3755 - val_accuracy: 0.3754\n",
      "Epoch 4/30\n",
      "143/143 - 0s - loss: 1.3152 - accuracy: 0.4519 - val_loss: 1.3066 - val_accuracy: 0.4515\n",
      "Epoch 5/30\n",
      "143/143 - 0s - loss: 1.2746 - accuracy: 0.4748 - val_loss: 1.3184 - val_accuracy: 0.4468\n",
      "Epoch 6/30\n",
      "143/143 - 0s - loss: 1.2495 - accuracy: 0.4842 - val_loss: 1.2879 - val_accuracy: 0.4667\n",
      "Epoch 7/30\n",
      "143/143 - 0s - loss: 1.2223 - accuracy: 0.4967 - val_loss: 1.2872 - val_accuracy: 0.4643\n",
      "Epoch 8/30\n",
      "143/143 - 0s - loss: 1.2071 - accuracy: 0.4958 - val_loss: 1.2365 - val_accuracy: 0.4936\n",
      "Epoch 9/30\n",
      "143/143 - 0s - loss: 1.1951 - accuracy: 0.5024 - val_loss: 1.2295 - val_accuracy: 0.4936\n",
      "Epoch 10/30\n",
      "143/143 - 0s - loss: 1.1706 - accuracy: 0.5151 - val_loss: 1.2584 - val_accuracy: 0.4632\n",
      "Epoch 11/30\n",
      "143/143 - 0s - loss: 1.1665 - accuracy: 0.5189 - val_loss: 1.2128 - val_accuracy: 0.4971\n",
      "Epoch 12/30\n",
      "143/143 - 0s - loss: 1.1564 - accuracy: 0.5279 - val_loss: 1.2196 - val_accuracy: 0.5111\n",
      "Epoch 13/30\n",
      "143/143 - 0s - loss: 1.1372 - accuracy: 0.5336 - val_loss: 1.2047 - val_accuracy: 0.4947\n",
      "Epoch 14/30\n",
      "143/143 - 0s - loss: 1.1331 - accuracy: 0.5360 - val_loss: 1.2107 - val_accuracy: 0.4994\n",
      "Epoch 15/30\n",
      "143/143 - 0s - loss: 1.1280 - accuracy: 0.5375 - val_loss: 1.1819 - val_accuracy: 0.5029\n",
      "Epoch 16/30\n",
      "143/143 - 0s - loss: 1.1105 - accuracy: 0.5428 - val_loss: 1.1810 - val_accuracy: 0.4982\n",
      "Epoch 17/30\n",
      "143/143 - 0s - loss: 1.0962 - accuracy: 0.5531 - val_loss: 1.1704 - val_accuracy: 0.5111\n",
      "Epoch 18/30\n",
      "143/143 - 0s - loss: 1.0964 - accuracy: 0.5560 - val_loss: 1.1668 - val_accuracy: 0.5099\n",
      "Epoch 19/30\n",
      "143/143 - 0s - loss: 1.0873 - accuracy: 0.5604 - val_loss: 1.1809 - val_accuracy: 0.5041\n",
      "Epoch 20/30\n",
      "143/143 - 0s - loss: 1.0848 - accuracy: 0.5573 - val_loss: 1.1984 - val_accuracy: 0.4994\n",
      "Epoch 21/30\n",
      "143/143 - 0s - loss: 1.0794 - accuracy: 0.5630 - val_loss: 1.1749 - val_accuracy: 0.5111\n",
      "Epoch 22/30\n",
      "143/143 - 0s - loss: 1.0686 - accuracy: 0.5722 - val_loss: 1.1507 - val_accuracy: 0.5181\n",
      "Epoch 23/30\n",
      "143/143 - 0s - loss: 1.0630 - accuracy: 0.5650 - val_loss: 1.1365 - val_accuracy: 0.5427\n",
      "Epoch 24/30\n",
      "143/143 - 0s - loss: 1.0624 - accuracy: 0.5645 - val_loss: 1.1318 - val_accuracy: 0.5357\n",
      "Epoch 25/30\n",
      "143/143 - 0s - loss: 1.0548 - accuracy: 0.5748 - val_loss: 1.1289 - val_accuracy: 0.5310\n",
      "Epoch 26/30\n",
      "143/143 - 0s - loss: 1.0403 - accuracy: 0.5834 - val_loss: 1.1232 - val_accuracy: 0.5427\n",
      "Epoch 27/30\n",
      "143/143 - 0s - loss: 1.0392 - accuracy: 0.5812 - val_loss: 1.1215 - val_accuracy: 0.5251\n",
      "Epoch 28/30\n",
      "143/143 - 0s - loss: 1.0296 - accuracy: 0.5928 - val_loss: 1.1111 - val_accuracy: 0.5392\n",
      "Epoch 29/30\n",
      "143/143 - 1s - loss: 1.0345 - accuracy: 0.5799 - val_loss: 1.1064 - val_accuracy: 0.5368\n",
      "Epoch 30/30\n",
      "143/143 - 1s - loss: 1.0307 - accuracy: 0.5792 - val_loss: 1.1242 - val_accuracy: 0.5450\n"
     ]
    }
   ],
   "source": [
    "history = model.fit(train_embeds, \n",
    "                    y = y_train,  \n",
    "                    validation_data = (test_embeds, y_test),\n",
    "                    epochs = EPOCHS,\n",
    "                   shuffle=True,\n",
    "                   verbose=2\n",
    "                )"
   ]
  },
  {
   "cell_type": "code",
   "execution_count": 20,
   "id": "2bad7b91",
   "metadata": {
    "execution": {
     "iopub.execute_input": "2022-12-05T04:18:12.262184Z",
     "iopub.status.busy": "2022-12-05T04:18:12.261703Z",
     "iopub.status.idle": "2022-12-05T04:18:12.291071Z",
     "shell.execute_reply": "2022-12-05T04:18:12.290134Z"
    },
    "papermill": {
     "duration": 0.065437,
     "end_time": "2022-12-05T04:18:12.293978",
     "exception": false,
     "start_time": "2022-12-05T04:18:12.228541",
     "status": "completed"
    },
    "tags": []
   },
   "outputs": [
    {
     "name": "stdout",
     "output_type": "stream",
     "text": [
      "Weights Saved\n"
     ]
    }
   ],
   "source": [
    "# SAVE MODEL\n",
    "SAVE_PATH = './Politeness_'+name+'.h5'\n",
    "model.save(SAVE_PATH, overwrite=True, save_format=\"tf\")\n",
    "print(\"Weights Saved\")"
   ]
  },
  {
   "cell_type": "code",
   "execution_count": 21,
   "id": "0274a27f",
   "metadata": {
    "execution": {
     "iopub.execute_input": "2022-12-05T04:18:12.356624Z",
     "iopub.status.busy": "2022-12-05T04:18:12.356263Z",
     "iopub.status.idle": "2022-12-05T04:18:12.614318Z",
     "shell.execute_reply": "2022-12-05T04:18:12.613328Z"
    },
    "papermill": {
     "duration": 0.291554,
     "end_time": "2022-12-05T04:18:12.616282",
     "exception": false,
     "start_time": "2022-12-05T04:18:12.324728",
     "status": "completed"
    },
    "tags": []
   },
   "outputs": [
    {
     "name": "stdout",
     "output_type": "stream",
     "text": [
      "MODEL LOADED\n",
      "\n",
      "\n",
      "27/27 [==============================] - 0s 2ms/step - loss: 1.1242 - accuracy: 0.5450\n"
     ]
    },
    {
     "data": {
      "text/plain": [
       "[1.1241875886917114, 0.5450292229652405]"
      ]
     },
     "execution_count": 21,
     "metadata": {},
     "output_type": "execute_result"
    }
   ],
   "source": [
    "# LOAD MODEL\n",
    "from keras.models import load_model\n",
    "LOAD_PATH = SAVE_PATH\n",
    "model = load_model(LOAD_PATH, custom_objects={'Attention': Attention})\n",
    "\n",
    "print(\"MODEL LOADED\\n\\n\")\n",
    "\n",
    "model.evaluate(test_embeds, y_test)"
   ]
  },
  {
   "cell_type": "markdown",
   "id": "9f59cae8",
   "metadata": {
    "papermill": {
     "duration": 0.017502,
     "end_time": "2022-12-05T04:18:12.652251",
     "exception": false,
     "start_time": "2022-12-05T04:18:12.634749",
     "status": "completed"
    },
    "tags": []
   },
   "source": [
    "## ANALYSIS"
   ]
  },
  {
   "cell_type": "code",
   "execution_count": 22,
   "id": "768deae1",
   "metadata": {
    "execution": {
     "iopub.execute_input": "2022-12-05T04:18:12.689637Z",
     "iopub.status.busy": "2022-12-05T04:18:12.688934Z",
     "iopub.status.idle": "2022-12-05T04:18:12.695325Z",
     "shell.execute_reply": "2022-12-05T04:18:12.694368Z"
    },
    "papermill": {
     "duration": 0.027094,
     "end_time": "2022-12-05T04:18:12.697336",
     "exception": false,
     "start_time": "2022-12-05T04:18:12.670242",
     "status": "completed"
    },
    "tags": []
   },
   "outputs": [
    {
     "data": {
      "text/plain": [
       "dict_keys(['loss', 'accuracy', 'val_loss', 'val_accuracy'])"
      ]
     },
     "execution_count": 22,
     "metadata": {},
     "output_type": "execute_result"
    }
   ],
   "source": [
    "history.history.keys()"
   ]
  },
  {
   "cell_type": "markdown",
   "id": "4b3205ec",
   "metadata": {
    "papermill": {
     "duration": 0.017684,
     "end_time": "2022-12-05T04:18:12.733203",
     "exception": false,
     "start_time": "2022-12-05T04:18:12.715519",
     "status": "completed"
    },
    "tags": []
   },
   "source": [
    "## VALIDATION"
   ]
  },
  {
   "cell_type": "code",
   "execution_count": 23,
   "id": "a83f40b3",
   "metadata": {
    "execution": {
     "iopub.execute_input": "2022-12-05T04:18:12.771291Z",
     "iopub.status.busy": "2022-12-05T04:18:12.770534Z",
     "iopub.status.idle": "2022-12-05T04:18:12.778102Z",
     "shell.execute_reply": "2022-12-05T04:18:12.777026Z"
    },
    "papermill": {
     "duration": 0.029353,
     "end_time": "2022-12-05T04:18:12.780585",
     "exception": false,
     "start_time": "2022-12-05T04:18:12.751232",
     "status": "completed"
    },
    "tags": []
   },
   "outputs": [
    {
     "name": "stdout",
     "output_type": "stream",
     "text": [
      "\n",
      "ACCURACY :  [0.29323968291282654, 0.39464443922042847, 0.4312993884086609, 0.45193150639533997, 0.4747585654258728, 0.48419666290283203, 0.49670764803886414, 0.49582967162132263, 0.5024144053459167, 0.5151448845863342, 0.5188761949539185, 0.5278753042221069, 0.5335820913314819, 0.5359964966773987, 0.5375329256057739, 0.5428007245063782, 0.5531167984008789, 0.5559701323509216, 0.5603599548339844, 0.5572870969772339, 0.5629938244819641, 0.5722124576568604, 0.5649692416191101, 0.5645303130149841, 0.5748463273048401, 0.5834065079689026, 0.5812115669250488, 0.5928446054458618, 0.5798946619033813, 0.5792361497879028]\n",
      "\n",
      "LOSS :  [1.5443546772003174, 1.423693060874939, 1.3574798107147217, 1.3152137994766235, 1.2746045589447021, 1.2495336532592773, 1.2222858667373657, 1.2071174383163452, 1.1951411962509155, 1.170579195022583, 1.1664916276931763, 1.1564364433288574, 1.1372196674346924, 1.1331020593643188, 1.127987265586853, 1.1104516983032227, 1.0962494611740112, 1.0963653326034546, 1.0872907638549805, 1.084771990776062, 1.0793653726577759, 1.0685622692108154, 1.0629855394363403, 1.0623953342437744, 1.0547969341278076, 1.0402967929840088, 1.0391765832901, 1.0295647382736206, 1.034547209739685, 1.0306507349014282]\n",
      "\n",
      "VAL LOSS :  [1.4610376358032227, 1.4045273065567017, 1.3755154609680176, 1.3065874576568604, 1.318406105041504, 1.2879290580749512, 1.2871953248977661, 1.2364706993103027, 1.2295081615447998, 1.2584378719329834, 1.2128219604492188, 1.2195563316345215, 1.2047330141067505, 1.2107418775558472, 1.181931495666504, 1.180958867073059, 1.170358419418335, 1.1668208837509155, 1.1809065341949463, 1.1983760595321655, 1.1748952865600586, 1.150666356086731, 1.1364845037460327, 1.1318005323410034, 1.1288865804672241, 1.123174786567688, 1.1214908361434937, 1.1111423969268799, 1.1063634157180786, 1.1241875886917114]\n",
      "\n",
      "VAL ACCURACY :  [0.35789474844932556, 0.378947377204895, 0.3754386007785797, 0.4514620006084442, 0.4467836320400238, 0.46666666865348816, 0.46432748436927795, 0.49356725811958313, 0.49356725811958313, 0.46315789222717285, 0.49707603454589844, 0.5111111402511597, 0.49473685026168823, 0.49941521883010864, 0.5029239654541016, 0.49824562668800354, 0.5111111402511597, 0.5099415183067322, 0.504093587398529, 0.49941521883010864, 0.5111111402511597, 0.5181286334991455, 0.5426900386810303, 0.5356724858283997, 0.530994176864624, 0.5426900386810303, 0.5251461863517761, 0.5391812920570374, 0.5368421077728271, 0.5450292229652405]\n"
     ]
    }
   ],
   "source": [
    "metrics_keys = list(history.history.keys())\n",
    "\n",
    "loss = history.history[metrics_keys[0]]\n",
    "accuracy = history.history[metrics_keys[1]]\n",
    "val_loss = history.history[metrics_keys[2]]\n",
    "val_accuracy = history.history[metrics_keys[3]]\n",
    "\n",
    "\n",
    "print(\"\\nACCURACY : \" , accuracy)\n",
    "print(\"\\nLOSS : \" , loss)\n",
    "print(\"\\nVAL LOSS : \" , val_loss)\n",
    "print(\"\\nVAL ACCURACY : \" , val_accuracy)"
   ]
  },
  {
   "cell_type": "code",
   "execution_count": 24,
   "id": "f4ffb0de",
   "metadata": {
    "execution": {
     "iopub.execute_input": "2022-12-05T04:18:12.819268Z",
     "iopub.status.busy": "2022-12-05T04:18:12.817702Z",
     "iopub.status.idle": "2022-12-05T04:18:13.272079Z",
     "shell.execute_reply": "2022-12-05T04:18:13.271092Z"
    },
    "papermill": {
     "duration": 0.475752,
     "end_time": "2022-12-05T04:18:13.274328",
     "exception": false,
     "start_time": "2022-12-05T04:18:12.798576",
     "status": "completed"
    },
    "tags": []
   },
   "outputs": [
    {
     "data": {
      "image/png": "[encoded data removed]",
      "text/plain": [
       "<Figure size 1080x1440 with 2 Axes>"
      ]
     },
     "metadata": {
      "needs_background": "light"
     },
     "output_type": "display_data"
    }
   ],
   "source": [
    "metrics = history.history['loss']\n",
    "epochs_range = range(1, len(metrics) + 1) \n",
    "\n",
    "plt.figure(figsize=(15, 20))\n",
    "plt.subplot(2, 1, 1)\n",
    "plt.plot(epochs_range, accuracy, label='Training Accuracy')\n",
    "plt.plot(epochs_range, val_accuracy, label='Validation Accuracy')\n",
    "plt.title('Politeness Training VS Validation Accuracy', fontsize=20)\n",
    "plt.xlabel('Epochs', fontsize=19, labelpad=20)\n",
    "plt.ylabel('Accuracy', fontsize=19, labelpad=20)\n",
    "plt.tick_params(axis='both', which='major', labelsize=15, )\n",
    "plt.legend(fontsize=17, loc='lower right')\n",
    "\n",
    "plt.subplot(2, 1, 2)\n",
    "plt.plot(epochs_range, loss, label='Training Loss')\n",
    "plt.plot(epochs_range, val_loss, label='Validation Loss')\n",
    "plt.title('Politeness Training VS Validation Loss', fontsize=20)\n",
    "plt.xlabel('Epochs', fontsize=19, labelpad=20)\n",
    "plt.ylabel('Loss', fontsize=19, labelpad=20)\n",
    "plt.tick_params(axis='both', which='major', labelsize=15)\n",
    "plt.legend(fontsize=17, loc='lower right')\n",
    "\n",
    "plt.show()"
   ]
  },
  {
   "cell_type": "code",
   "execution_count": 25,
   "id": "5af26ce4",
   "metadata": {
    "execution": {
     "iopub.execute_input": "2022-12-05T04:18:13.315133Z",
     "iopub.status.busy": "2022-12-05T04:18:13.314801Z",
     "iopub.status.idle": "2022-12-05T04:18:13.322999Z",
     "shell.execute_reply": "2022-12-05T04:18:13.322094Z"
    },
    "papermill": {
     "duration": 0.030864,
     "end_time": "2022-12-05T04:18:13.325088",
     "exception": false,
     "start_time": "2022-12-05T04:18:13.294224",
     "status": "completed"
    },
    "tags": []
   },
   "outputs": [
    {
     "data": {
      "text/plain": [
       "Index(['HIMP', 'IMP', 'N', 'P', 'HP'], dtype='object')"
      ]
     },
     "execution_count": 25,
     "metadata": {},
     "output_type": "execute_result"
    }
   ],
   "source": [
    "politeness = y_train.columns\n",
    "politeness"
   ]
  },
  {
   "cell_type": "code",
   "execution_count": 26,
   "id": "65e332da",
   "metadata": {
    "execution": {
     "iopub.execute_input": "2022-12-05T04:18:13.363662Z",
     "iopub.status.busy": "2022-12-05T04:18:13.362667Z",
     "iopub.status.idle": "2022-12-05T04:18:13.915718Z",
     "shell.execute_reply": "2022-12-05T04:18:13.914670Z"
    },
    "papermill": {
     "duration": 0.575266,
     "end_time": "2022-12-05T04:18:13.918841",
     "exception": false,
     "start_time": "2022-12-05T04:18:13.343575",
     "status": "completed"
    },
    "tags": []
   },
   "outputs": [],
   "source": [
    "# POLITENESS\n",
    "y_pred_test = model.predict(test_embeds)\n",
    "y_pred_val = model.predict(val_embeds)\n",
    "y_pred_test_idx = np.argmax(y_pred_test, axis=1)\n",
    "y_pred_val_idx = np.argmax(y_pred_val, axis=1)\n",
    "\n",
    "y_test_true_idx =np.argmax(y_test.values, axis=1)\n",
    "y_val_true_idx =np.argmax(y_val.values, axis=1)"
   ]
  },
  {
   "cell_type": "code",
   "execution_count": 27,
   "id": "dfdb0545",
   "metadata": {
    "execution": {
     "iopub.execute_input": "2022-12-05T04:18:13.984097Z",
     "iopub.status.busy": "2022-12-05T04:18:13.983781Z",
     "iopub.status.idle": "2022-12-05T04:18:14.040462Z",
     "shell.execute_reply": "2022-12-05T04:18:14.039477Z"
    },
    "papermill": {
     "duration": 0.089622,
     "end_time": "2022-12-05T04:18:14.042729",
     "exception": false,
     "start_time": "2022-12-05T04:18:13.953107",
     "status": "completed"
    },
    "tags": []
   },
   "outputs": [],
   "source": [
    "# CONFUSION MATRIX\n",
    "import seaborn as sns\n",
    "from sklearn.metrics import confusion_matrix as cm\n",
    "\n",
    "cm_test = cm(y_test_true_idx, y_pred_test_idx)\n",
    "cm_val = cm(y_val_true_idx, y_pred_val_idx)"
   ]
  },
  {
   "cell_type": "code",
   "execution_count": 28,
   "id": "d375314b",
   "metadata": {
    "execution": {
     "iopub.execute_input": "2022-12-05T04:18:14.081381Z",
     "iopub.status.busy": "2022-12-05T04:18:14.081095Z",
     "iopub.status.idle": "2022-12-05T04:18:14.090443Z",
     "shell.execute_reply": "2022-12-05T04:18:14.089293Z"
    },
    "papermill": {
     "duration": 0.030881,
     "end_time": "2022-12-05T04:18:14.092651",
     "exception": false,
     "start_time": "2022-12-05T04:18:14.061770",
     "status": "completed"
    },
    "tags": []
   },
   "outputs": [
    {
     "name": "stdout",
     "output_type": "stream",
     "text": [
      "*** CLASS-WISE  TEST ACCURACY : **** \n",
      "\n",
      "CLASS\tACCURACY\n",
      " HIMP \t 0.376\n",
      " IMP \t 0.667\n",
      " N \t 0.44\n",
      " P \t 0.509\n",
      " HP \t 0.732\n",
      "\n",
      "\n",
      "*** CLASS-WISE  VAL ACCURACY : **** \n",
      "\n",
      "CLASS\tACCURACY\n",
      "HIMP \t 0.353\n",
      "IMP \t 0.765\n",
      "N \t 0.441\n",
      "P \t 0.492\n",
      "HP \t 0.887\n"
     ]
    }
   ],
   "source": [
    "# CLASS-WISE ACCURACY\n",
    "cm_test_acc = cm_test.astype('float') / cm_test.sum(axis=1)[:, np.newaxis]\n",
    "test_acc =cm_test_acc.diagonal()\n",
    "\n",
    "# POLARITY ACCURACY\n",
    "cm_val_acc = cm_val.astype('float') / cm_val.sum(axis=1)[:, np.newaxis]\n",
    "val_acc =cm_val_acc.diagonal()\n",
    "\n",
    "# ASPECT CATEGORY\n",
    "print('*** CLASS-WISE  TEST ACCURACY : **** \\n')\n",
    "print(\"CLASS\\tACCURACY\")\n",
    "for cat, acc in zip(politeness, test_acc):\n",
    "    print('',cat,\"\\t\",round(acc, 3))\n",
    "    \n",
    "# POLARITY\n",
    "print('\\n\\n*** CLASS-WISE  VAL ACCURACY : **** \\n')\n",
    "print(\"CLASS\\tACCURACY\")\n",
    "for cat, acc in zip(politeness, val_acc):\n",
    "    print(cat,\"\\t\",round(acc, 3))"
   ]
  },
  {
   "cell_type": "code",
   "execution_count": 29,
   "id": "89d21ffd",
   "metadata": {
    "execution": {
     "iopub.execute_input": "2022-12-05T04:18:14.131056Z",
     "iopub.status.busy": "2022-12-05T04:18:14.130795Z",
     "iopub.status.idle": "2022-12-05T04:18:14.753361Z",
     "shell.execute_reply": "2022-12-05T04:18:14.752328Z"
    },
    "papermill": {
     "duration": 0.644705,
     "end_time": "2022-12-05T04:18:14.755813",
     "exception": false,
     "start_time": "2022-12-05T04:18:14.111108",
     "status": "completed"
    },
    "tags": []
   },
   "outputs": [
    {
     "data": {
      "image/png": "[encoded data removed]",
      "text/plain": [
       "<Figure size 1800x720 with 2 Axes>"
      ]
     },
     "metadata": {
      "needs_background": "light"
     },
     "output_type": "display_data"
    },
    {
     "data": {
      "image/png": "[encoded data removed]",
      "text/plain": [
       "<Figure size 1800x720 with 2 Axes>"
      ]
     },
     "metadata": {
      "needs_background": "light"
     },
     "output_type": "display_data"
    }
   ],
   "source": [
    "plt.figure(figsize=(25, 10))\n",
    "sns.heatmap(cm_test, square=True, annot=True, cmap='Blues', fmt='d', cbar=True, yticklabels=politeness, xticklabels=politeness)\n",
    "plt.xlabel('Predicted Values', fontsize=20, labelpad=20)\n",
    "plt.ylabel('Actual Values', fontsize=20, labelpad=20)\n",
    "plt.title('Polarity Tone Levels Confusion Matrix for Testing Data', fontsize=20)\n",
    "plt.tick_params(axis='both', which='major', labelsize=15)\n",
    "plt.show()\n",
    "\n",
    "\n",
    "plt.figure(figsize=(25, 10))\n",
    "sns.heatmap(cm_val, square=True, annot=True, cmap='Blues', fmt='d', cbar=True, yticklabels=politeness, xticklabels=politeness)\n",
    "plt.xlabel('Predicted Values', fontsize=20, labelpad=20)\n",
    "plt.ylabel('Actual Values', fontsize=20, labelpad=20)\n",
    "plt.title('Polarity Tone Levels Confusion Matrix for Validation Data', fontsize=20)\n",
    "plt.tick_params(axis='both', which='major', labelsize=15)\n",
    "plt.show()"
   ]
  },
  {
   "cell_type": "code",
   "execution_count": 30,
   "id": "ab09ded7",
   "metadata": {
    "execution": {
     "iopub.execute_input": "2022-12-05T04:18:14.797671Z",
     "iopub.status.busy": "2022-12-05T04:18:14.796189Z",
     "iopub.status.idle": "2022-12-05T04:18:15.329076Z",
     "shell.execute_reply": "2022-12-05T04:18:15.328126Z"
    },
    "papermill": {
     "duration": 0.555408,
     "end_time": "2022-12-05T04:18:15.331418",
     "exception": false,
     "start_time": "2022-12-05T04:18:14.776010",
     "status": "completed"
    },
    "tags": []
   },
   "outputs": [
    {
     "data": {
      "image/png": "[encoded data removed]",
      "text/plain": [
       "<Figure size 576x576 with 1 Axes>"
      ]
     },
     "metadata": {
      "needs_background": "light"
     },
     "output_type": "display_data"
    }
   ],
   "source": [
    "from pretty_confusion_matrix import pp_matrix\n",
    "\n",
    "df_cm = pd.DataFrame(cm_test, index=politeness, columns=politeness)\n",
    "cmap = 'PuRd'\n",
    "pp_matrix(df_cm, cmap=cmap)"
   ]
  },
  {
   "cell_type": "code",
   "execution_count": 31,
   "id": "b3446cff",
   "metadata": {
    "execution": {
     "iopub.execute_input": "2022-12-05T04:18:15.374071Z",
     "iopub.status.busy": "2022-12-05T04:18:15.373224Z",
     "iopub.status.idle": "2022-12-05T04:18:15.892713Z",
     "shell.execute_reply": "2022-12-05T04:18:15.891375Z"
    },
    "papermill": {
     "duration": 0.543062,
     "end_time": "2022-12-05T04:18:15.895135",
     "exception": false,
     "start_time": "2022-12-05T04:18:15.352073",
     "status": "completed"
    },
    "tags": []
   },
   "outputs": [
    {
     "data": {
      "image/png": "[encoded data removed]",
      "text/plain": [
       "<Figure size 576x576 with 1 Axes>"
      ]
     },
     "metadata": {
      "needs_background": "light"
     },
     "output_type": "display_data"
    }
   ],
   "source": [
    "from pretty_confusion_matrix import pp_matrix\n",
    "\n",
    "df_cm = pd.DataFrame(cm_val, index=politeness, columns=politeness)\n",
    "cmap = 'PuRd'\n",
    "pp_matrix(df_cm, cmap=cmap)"
   ]
  },
  {
   "cell_type": "code",
   "execution_count": 32,
   "id": "d339cfcd",
   "metadata": {
    "execution": {
     "iopub.execute_input": "2022-12-05T04:18:15.940524Z",
     "iopub.status.busy": "2022-12-05T04:18:15.939677Z",
     "iopub.status.idle": "2022-12-05T04:18:15.954292Z",
     "shell.execute_reply": "2022-12-05T04:18:15.953121Z"
    },
    "papermill": {
     "duration": 0.039047,
     "end_time": "2022-12-05T04:18:15.956461",
     "exception": false,
     "start_time": "2022-12-05T04:18:15.917414",
     "status": "completed"
    },
    "tags": []
   },
   "outputs": [
    {
     "name": "stdout",
     "output_type": "stream",
     "text": [
      "              precision    recall  f1-score   support\n",
      "\n",
      "        HIMP       0.76      0.38      0.50       173\n",
      "         IMP       0.39      0.67      0.49       162\n",
      "           N       0.56      0.44      0.49       168\n",
      "           P       0.53      0.51      0.52       173\n",
      "          HP       0.68      0.73      0.70       179\n",
      "\n",
      "    accuracy                           0.55       855\n",
      "   macro avg       0.58      0.54      0.54       855\n",
      "weighted avg       0.59      0.55      0.54       855\n",
      "\n",
      "\n",
      "\n",
      "               precision    recall  f1-score   support\n",
      "\n",
      "        HIMP       0.82      0.35      0.49        51\n",
      "         IMP       0.46      0.76      0.58        51\n",
      "           N       0.67      0.44      0.53        59\n",
      "           P       0.52      0.49      0.50        61\n",
      "          HP       0.68      0.89      0.77        62\n",
      "\n",
      "    accuracy                           0.59       284\n",
      "   macro avg       0.63      0.59      0.57       284\n",
      "weighted avg       0.63      0.59      0.58       284\n",
      "\n"
     ]
    }
   ],
   "source": [
    "# CLASSIFICATION REPORT\n",
    "from sklearn.metrics import classification_report\n",
    "\n",
    "print(classification_report(y_test_true_idx, y_pred_test_idx, target_names=politeness))\n",
    "print('\\n\\n',classification_report(y_val_true_idx, y_pred_val_idx , target_names=politeness))"
   ]
  },
  {
   "cell_type": "markdown",
   "id": "9afc668f",
   "metadata": {
    "papermill": {
     "duration": 0.021102,
     "end_time": "2022-12-05T04:18:15.998746",
     "exception": false,
     "start_time": "2022-12-05T04:18:15.977644",
     "status": "completed"
    },
    "tags": []
   },
   "source": [
    "# INFERENCE MODEL"
   ]
  },
  {
   "cell_type": "code",
   "execution_count": 33,
   "id": "9bb45c4a",
   "metadata": {
    "execution": {
     "iopub.execute_input": "2022-12-05T04:18:16.042146Z",
     "iopub.status.busy": "2022-12-05T04:18:16.041846Z",
     "iopub.status.idle": "2022-12-05T04:18:16.047061Z",
     "shell.execute_reply": "2022-12-05T04:18:16.046026Z"
    },
    "papermill": {
     "duration": 0.02959,
     "end_time": "2022-12-05T04:18:16.049334",
     "exception": false,
     "start_time": "2022-12-05T04:18:16.019744",
     "status": "completed"
    },
    "tags": []
   },
   "outputs": [],
   "source": [
    "def predictPreprocess(model, sent):\n",
    "    outputs = sent2embed(model, sent)\n",
    "    pred_X = np.array([outputs[1].detach().numpy()[0]])\n",
    "    embed_X = tf.stack(pred_X)\n",
    "    return embed_X"
   ]
  },
  {
   "cell_type": "code",
   "execution_count": 34,
   "id": "8e3a2b18",
   "metadata": {
    "execution": {
     "iopub.execute_input": "2022-12-05T04:18:16.093057Z",
     "iopub.status.busy": "2022-12-05T04:18:16.092799Z",
     "iopub.status.idle": "2022-12-05T04:18:16.098245Z",
     "shell.execute_reply": "2022-12-05T04:18:16.097245Z"
    },
    "papermill": {
     "duration": 0.029397,
     "end_time": "2022-12-05T04:18:16.100347",
     "exception": false,
     "start_time": "2022-12-05T04:18:16.070950",
     "status": "completed"
    },
    "tags": []
   },
   "outputs": [],
   "source": [
    "def inferenceModel(model, embed_model, sent):\n",
    "    labels = y_train.columns\n",
    "    sents= sent.split('.')[:-1]\n",
    "    results =[]\n",
    "    for s in sents:\n",
    "        sample_embed = predictPreprocess(embed_model, s.strip())\n",
    "        politness_probab = model.predict(sample_embed)\n",
    "        politness_label_idx = np.argmax(politness_probab[0])\n",
    "        results.append([labels[politness_label_idx] ])\n",
    "        \n",
    "    return results"
   ]
  },
  {
   "cell_type": "code",
   "execution_count": 35,
   "id": "4e7cd0e3",
   "metadata": {
    "execution": {
     "iopub.execute_input": "2022-12-05T04:18:16.143493Z",
     "iopub.status.busy": "2022-12-05T04:18:16.143161Z",
     "iopub.status.idle": "2022-12-05T04:18:16.626207Z",
     "shell.execute_reply": "2022-12-05T04:18:16.624778Z"
    },
    "papermill": {
     "duration": 0.507679,
     "end_time": "2022-12-05T04:18:16.628665",
     "exception": false,
     "start_time": "2022-12-05T04:18:16.120986",
     "status": "completed"
    },
    "tags": []
   },
   "outputs": [
    {
     "name": "stdout",
     "output_type": "stream",
     "text": [
      "PREDICTED OUTPUT : [['P'], ['N'], ['N']]\n"
     ]
    }
   ],
   "source": [
    "# SAMPLE 1\n",
    "sent = '''This paper presents a model-free policy gradient approach for \n",
    "reinforcement learning that combines on-policy  updates with an off-policy \n",
    "critic . The hope is to learn continuous control in a sample-efficient fashion. \n",
    "The approach  is validated on a number of low-dimensional continuous control \n",
    "tasks in a simulated environment.'''\n",
    "op = inferenceModel(model,embed_model, sent)\n",
    "\n",
    "print('PREDICTED OUTPUT :', op)"
   ]
  },
  {
   "cell_type": "code",
   "execution_count": 36,
   "id": "cb359121",
   "metadata": {
    "execution": {
     "iopub.execute_input": "2022-12-05T04:18:16.682760Z",
     "iopub.status.busy": "2022-12-05T04:18:16.682362Z",
     "iopub.status.idle": "2022-12-05T04:18:17.022036Z",
     "shell.execute_reply": "2022-12-05T04:18:17.021021Z"
    },
    "papermill": {
     "duration": 0.368331,
     "end_time": "2022-12-05T04:18:17.024266",
     "exception": false,
     "start_time": "2022-12-05T04:18:16.655935",
     "status": "completed"
    },
    "tags": []
   },
   "outputs": [
    {
     "name": "stdout",
     "output_type": "stream",
     "text": [
      "PREDICTED OUTPUT : [['P'], ['P']]\n"
     ]
    }
   ],
   "source": [
    "# SAMPLE 2\n",
    "sent = '''However , since the processing of sequential data seems to be a broad and general area of application , it is  \n",
    "conceivable that this work will be useful in the design and application of \n",
    "future CNNs . All in all , this paper introduces  an interesting idea to \n",
    "address an important topic .'''\n",
    "op = inferenceModel(model,embed_model, sent)\n",
    "\n",
    "print('PREDICTED OUTPUT :', op)"
   ]
  },
  {
   "cell_type": "code",
   "execution_count": null,
   "id": "1bbf82ec",
   "metadata": {
    "papermill": {
     "duration": 0.020973,
     "end_time": "2022-12-05T04:18:17.068771",
     "exception": false,
     "start_time": "2022-12-05T04:18:17.047798",
     "status": "completed"
    },
    "tags": []
   },
   "outputs": [],
   "source": []
  }
 ],
 "metadata": {
  "kernelspec": {
   "display_name": "Python 3",
   "language": "python",
   "name": "python3"
  },
  "language_info": {
   "codemirror_mode": {
    "name": "ipython",
    "version": 3
   },
   "file_extension": ".py",
   "mimetype": "text/x-python",
   "name": "python",
   "nbconvert_exporter": "python",
   "pygments_lexer": "ipython3",
   "version": "3.7.12"
  },
  "papermill": {
   "default_parameters": {},
   "duration": 126.312185,
   "end_time": "2022-12-05T04:18:20.142828",
   "environment_variables": {},
   "exception": null,
   "input_path": "__notebook__.ipynb",
   "output_path": "__notebook__.ipynb",
   "parameters": {},
   "start_time": "2022-12-05T04:16:13.830643",
   "version": "2.3.4"
  },
  "widgets": {
   "application/vnd.jupyter.widget-state+json": {
    "state": {
     "038c184167ff4acb974959902dad3601": {
      "model_module": "@jupyter-widgets/controls",
      "model_module_version": "1.5.0",
      "model_name": "HTMLModel",
      "state": {
       "_dom_classes": [],
       "_model_module": "@jupyter-widgets/controls",
       "_model_module_version": "1.5.0",
       "_model_name": "HTMLModel",
       "_view_count": null,
       "_view_module": "@jupyter-widgets/controls",
       "_view_module_version": "1.5.0",
       "_view_name": "HTMLView",
       "description": "",
       "description_tooltip": null,
       "layout": "IPY_MODEL_871feb076566414c8125ed70b8af5a2c",
       "placeholder": "​",
       "style": "IPY_MODEL_a3a82bf43f4542edbdc282dac0d62a8b",
       "value": "Downloading: 100%"
      }
     },
     "04984391f79347d881bbc788b26d9494": {
      "model_module": "@jupyter-widgets/controls",
      "model_module_version": "1.5.0",
      "model_name": "DescriptionStyleModel",
      "state": {
       "_model_module": "@jupyter-widgets/controls",
       "_model_module_version": "1.5.0",
       "_model_name": "DescriptionStyleModel",
       "_view_count": null,
       "_view_module": "@jupyter-widgets/base",
       "_view_module_version": "1.2.0",
       "_view_name": "StyleView",
       "description_width": ""
      }
     },
     "0c1455cf5ba4483cb72d2d0093465851": {
      "model_module": "@jupyter-widgets/controls",
      "model_module_version": "1.5.0",
      "model_name": "HTMLModel",
      "state": {
       "_dom_classes": [],
       "_model_module": "@jupyter-widgets/controls",
       "_model_module_version": "1.5.0",
       "_model_name": "HTMLModel",
       "_view_count": null,
       "_view_module": "@jupyter-widgets/controls",
       "_view_module_version": "1.5.0",
       "_view_name": "HTMLView",
       "description": "",
       "description_tooltip": null,
       "layout": "IPY_MODEL_15a52727ca8e457893727de5cbe49ed9",
       "placeholder": "​",
       "style": "IPY_MODEL_61c978d783d64515b7023fbc6d7c34ec",
       "value": " 420M/420M [00:19&lt;00:00, 24.6MB/s]"
      }
     },
     "15a52727ca8e457893727de5cbe49ed9": {
      "model_module": "@jupyter-widgets/base",
      "model_module_version": "1.2.0",
      "model_name": "LayoutModel",
      "state": {
       "_model_module": "@jupyter-widgets/base",
       "_model_module_version": "1.2.0",
       "_model_name": "LayoutModel",
       "_view_count": null,
       "_view_module": "@jupyter-widgets/base",
       "_view_module_version": "1.2.0",
       "_view_name": "LayoutView",
       "align_content": null,
       "align_items": null,
       "align_self": null,
       "border": null,
       "bottom": null,
       "display": null,
       "flex": null,
       "flex_flow": null,
       "grid_area": null,
       "grid_auto_columns": null,
       "grid_auto_flow": null,
       "grid_auto_rows": null,
       "grid_column": null,
       "grid_gap": null,
       "grid_row": null,
       "grid_template_areas": null,
       "grid_template_columns": null,
       "grid_template_rows": null,
       "height": null,
       "justify_content": null,
       "justify_items": null,
       "left": null,
       "margin": null,
       "max_height": null,
       "max_width": null,
       "min_height": null,
       "min_width": null,
       "object_fit": null,
       "object_position": null,
       "order": null,
       "overflow": null,
       "overflow_x": null,
       "overflow_y": null,
       "padding": null,
       "right": null,
       "top": null,
       "visibility": null,
       "width": null
      }
     },
     "1c5b5609eea14feaa1aaf458c0a325fd": {
      "model_module": "@jupyter-widgets/controls",
      "model_module_version": "1.5.0",
      "model_name": "DescriptionStyleModel",
      "state": {
       "_model_module": "@jupyter-widgets/controls",
       "_model_module_version": "1.5.0",
       "_model_name": "DescriptionStyleModel",
       "_view_count": null,
       "_view_module": "@jupyter-widgets/base",
       "_view_module_version": "1.2.0",
       "_view_name": "StyleView",
       "description_width": ""
      }
     },
     "1d397a6876864d7d870d88f633f21fac": {
      "model_module": "@jupyter-widgets/controls",
      "model_module_version": "1.5.0",
      "model_name": "HTMLModel",
      "state": {
       "_dom_classes": [],
       "_model_module": "@jupyter-widgets/controls",
       "_model_module_version": "1.5.0",
       "_model_name": "HTMLModel",
       "_view_count": null,
       "_view_module": "@jupyter-widgets/controls",
       "_view_module_version": "1.5.0",
       "_view_name": "HTMLView",
       "description": "",
       "description_tooltip": null,
       "layout": "IPY_MODEL_9961f80c930c49bea128317d181899e1",
       "placeholder": "​",
       "style": "IPY_MODEL_49c2799b294249ff83e2760abcb54279",
       "value": " 226k/226k [00:00&lt;00:00, 972kB/s]"
      }
     },
     "23a20d24fc4749fc8637b2c8f3f2135b": {
      "model_module": "@jupyter-widgets/base",
      "model_module_version": "1.2.0",
      "model_name": "LayoutModel",
      "state": {
       "_model_module": "@jupyter-widgets/base",
       "_model_module_version": "1.2.0",
       "_model_name": "LayoutModel",
       "_view_count": null,
       "_view_module": "@jupyter-widgets/base",
       "_view_module_version": "1.2.0",
       "_view_name": "LayoutView",
       "align_content": null,
       "align_items": null,
       "align_self": null,
       "border": null,
       "bottom": null,
       "display": null,
       "flex": null,
       "flex_flow": null,
       "grid_area": null,
       "grid_auto_columns": null,
       "grid_auto_flow": null,
       "grid_auto_rows": null,
       "grid_column": null,
       "grid_gap": null,
       "grid_row": null,
       "grid_template_areas": null,
       "grid_template_columns": null,
       "grid_template_rows": null,
       "height": null,
       "justify_content": null,
       "justify_items": null,
       "left": null,
       "margin": null,
       "max_height": null,
       "max_width": null,
       "min_height": null,
       "min_width": null,
       "object_fit": null,
       "object_position": null,
       "order": null,
       "overflow": null,
       "overflow_x": null,
       "overflow_y": null,
       "padding": null,
       "right": null,
       "top": null,
       "visibility": null,
       "width": null
      }
     },
     "24586cb815c343c8b7248f7f2ed56726": {
      "model_module": "@jupyter-widgets/controls",
      "model_module_version": "1.5.0",
      "model_name": "HTMLModel",
      "state": {
       "_dom_classes": [],
       "_model_module": "@jupyter-widgets/controls",
       "_model_module_version": "1.5.0",
       "_model_name": "HTMLModel",
       "_view_count": null,
       "_view_module": "@jupyter-widgets/controls",
       "_view_module_version": "1.5.0",
       "_view_name": "HTMLView",
       "description": "",
       "description_tooltip": null,
       "layout": "IPY_MODEL_d81fc2ccfa2a4d7ca8f06fa25bcb75ec",
       "placeholder": "​",
       "style": "IPY_MODEL_94fed51365164478a5b1e09e0924445c",
       "value": "Downloading: 100%"
      }
     },
     "247616dc365b42d5b90ea54854866fd8": {
      "model_module": "@jupyter-widgets/base",
      "model_module_version": "1.2.0",
      "model_name": "LayoutModel",
      "state": {
       "_model_module": "@jupyter-widgets/base",
       "_model_module_version": "1.2.0",
       "_model_name": "LayoutModel",
       "_view_count": null,
       "_view_module": "@jupyter-widgets/base",
       "_view_module_version": "1.2.0",
       "_view_name": "LayoutView",
       "align_content": null,
       "align_items": null,
       "align_self": null,
       "border": null,
       "bottom": null,
       "display": null,
       "flex": null,
       "flex_flow": null,
       "grid_area": null,
       "grid_auto_columns": null,
       "grid_auto_flow": null,
       "grid_auto_rows": null,
       "grid_column": null,
       "grid_gap": null,
       "grid_row": null,
       "grid_template_areas": null,
       "grid_template_columns": null,
       "grid_template_rows": null,
       "height": null,
       "justify_content": null,
       "justify_items": null,
       "left": null,
       "margin": null,
       "max_height": null,
       "max_width": null,
       "min_height": null,
       "min_width": null,
       "object_fit": null,
       "object_position": null,
       "order": null,
       "overflow": null,
       "overflow_x": null,
       "overflow_y": null,
       "padding": null,
       "right": null,
       "top": null,
       "visibility": null,
       "width": null
      }
     },
     "341ba6431d6341588d08cb97543daef4": {
      "model_module": "@jupyter-widgets/controls",
      "model_module_version": "1.5.0",
      "model_name": "FloatProgressModel",
      "state": {
       "_dom_classes": [],
       "_model_module": "@jupyter-widgets/controls",
       "_model_module_version": "1.5.0",
       "_model_name": "FloatProgressModel",
       "_view_count": null,
       "_view_module": "@jupyter-widgets/controls",
       "_view_module_version": "1.5.0",
       "_view_name": "ProgressView",
       "bar_style": "success",
       "description": "",
       "description_tooltip": null,
       "layout": "IPY_MODEL_49b6b954f8a64304bd7b8fb692cf2f99",
       "max": 231508,
       "min": 0,
       "orientation": "horizontal",
       "style": "IPY_MODEL_a3c03aadee5f45018d7de8645f3c69f9",
       "value": 231508
      }
     },
     "36981bdef1ac45a598e4584624b4467e": {
      "model_module": "@jupyter-widgets/controls",
      "model_module_version": "1.5.0",
      "model_name": "DescriptionStyleModel",
      "state": {
       "_model_module": "@jupyter-widgets/controls",
       "_model_module_version": "1.5.0",
       "_model_name": "DescriptionStyleModel",
       "_view_count": null,
       "_view_module": "@jupyter-widgets/base",
       "_view_module_version": "1.2.0",
       "_view_name": "StyleView",
       "description_width": ""
      }
     },
     "393cf60dbe524571a19bcfd0082056ab": {
      "model_module": "@jupyter-widgets/controls",
      "model_module_version": "1.5.0",
      "model_name": "ProgressStyleModel",
      "state": {
       "_model_module": "@jupyter-widgets/controls",
       "_model_module_version": "1.5.0",
       "_model_name": "ProgressStyleModel",
       "_view_count": null,
       "_view_module": "@jupyter-widgets/base",
       "_view_module_version": "1.2.0",
       "_view_name": "StyleView",
       "bar_color": null,
       "description_width": ""
      }
     },
     "3b4e8f936980475daacb440da0f7bb0f": {
      "model_module": "@jupyter-widgets/base",
      "model_module_version": "1.2.0",
      "model_name": "LayoutModel",
      "state": {
       "_model_module": "@jupyter-widgets/base",
       "_model_module_version": "1.2.0",
       "_model_name": "LayoutModel",
       "_view_count": null,
       "_view_module": "@jupyter-widgets/base",
       "_view_module_version": "1.2.0",
       "_view_name": "LayoutView",
       "align_content": null,
       "align_items": null,
       "align_self": null,
       "border": null,
       "bottom": null,
       "display": null,
       "flex": null,
       "flex_flow": null,
       "grid_area": null,
       "grid_auto_columns": null,
       "grid_auto_flow": null,
       "grid_auto_rows": null,
       "grid_column": null,
       "grid_gap": null,
       "grid_row": null,
       "grid_template_areas": null,
       "grid_template_columns": null,
       "grid_template_rows": null,
       "height": null,
       "justify_content": null,
       "justify_items": null,
       "left": null,
       "margin": null,
       "max_height": null,
       "max_width": null,
       "min_height": null,
       "min_width": null,
       "object_fit": null,
       "object_position": null,
       "order": null,
       "overflow": null,
       "overflow_x": null,
       "overflow_y": null,
       "padding": null,
       "right": null,
       "top": null,
       "visibility": null,
       "width": null
      }
     },
     "3cca131a97704b089faeecd2eb2ef991": {
      "model_module": "@jupyter-widgets/controls",
      "model_module_version": "1.5.0",
      "model_name": "HTMLModel",
      "state": {
       "_dom_classes": [],
       "_model_module": "@jupyter-widgets/controls",
       "_model_module_version": "1.5.0",
       "_model_name": "HTMLModel",
       "_view_count": null,
       "_view_module": "@jupyter-widgets/controls",
       "_view_module_version": "1.5.0",
       "_view_name": "HTMLView",
       "description": "",
       "description_tooltip": null,
       "layout": "IPY_MODEL_3b4e8f936980475daacb440da0f7bb0f",
       "placeholder": "​",
       "style": "IPY_MODEL_04984391f79347d881bbc788b26d9494",
       "value": " 112/112 [00:00&lt;00:00, 3.33kB/s]"
      }
     },
     "49b6b954f8a64304bd7b8fb692cf2f99": {
      "model_module": "@jupyter-widgets/base",
      "model_module_version": "1.2.0",
      "model_name": "LayoutModel",
      "state": {
       "_model_module": "@jupyter-widgets/base",
       "_model_module_version": "1.2.0",
       "_model_name": "LayoutModel",
       "_view_count": null,
       "_view_module": "@jupyter-widgets/base",
       "_view_module_version": "1.2.0",
       "_view_name": "LayoutView",
       "align_content": null,
       "align_items": null,
       "align_self": null,
       "border": null,
       "bottom": null,
       "display": null,
       "flex": null,
       "flex_flow": null,
       "grid_area": null,
       "grid_auto_columns": null,
       "grid_auto_flow": null,
       "grid_auto_rows": null,
       "grid_column": null,
       "grid_gap": null,
       "grid_row": null,
       "grid_template_areas": null,
       "grid_template_columns": null,
       "grid_template_rows": null,
       "height": null,
       "justify_content": null,
       "justify_items": null,
       "left": null,
       "margin": null,
       "max_height": null,
       "max_width": null,
       "min_height": null,
       "min_width": null,
       "object_fit": null,
       "object_position": null,
       "order": null,
       "overflow": null,
       "overflow_x": null,
       "overflow_y": null,
       "padding": null,
       "right": null,
       "top": null,
       "visibility": null,
       "width": null
      }
     },
     "49c2799b294249ff83e2760abcb54279": {
      "model_module": "@jupyter-widgets/controls",
      "model_module_version": "1.5.0",
      "model_name": "DescriptionStyleModel",
      "state": {
       "_model_module": "@jupyter-widgets/controls",
       "_model_module_version": "1.5.0",
       "_model_name": "DescriptionStyleModel",
       "_view_count": null,
       "_view_module": "@jupyter-widgets/base",
       "_view_module_version": "1.2.0",
       "_view_name": "StyleView",
       "description_width": ""
      }
     },
     "4cfa1a0c4a2542eeadca801f506ffb6f": {
      "model_module": "@jupyter-widgets/base",
      "model_module_version": "1.2.0",
      "model_name": "LayoutModel",
      "state": {
       "_model_module": "@jupyter-widgets/base",
       "_model_module_version": "1.2.0",
       "_model_name": "LayoutModel",
       "_view_count": null,
       "_view_module": "@jupyter-widgets/base",
       "_view_module_version": "1.2.0",
       "_view_name": "LayoutView",
       "align_content": null,
       "align_items": null,
       "align_self": null,
       "border": null,
       "bottom": null,
       "display": null,
       "flex": null,
       "flex_flow": null,
       "grid_area": null,
       "grid_auto_columns": null,
       "grid_auto_flow": null,
       "grid_auto_rows": null,
       "grid_column": null,
       "grid_gap": null,
       "grid_row": null,
       "grid_template_areas": null,
       "grid_template_columns": null,
       "grid_template_rows": null,
       "height": null,
       "justify_content": null,
       "justify_items": null,
       "left": null,
       "margin": null,
       "max_height": null,
       "max_width": null,
       "min_height": null,
       "min_width": null,
       "object_fit": null,
       "object_position": null,
       "order": null,
       "overflow": null,
       "overflow_x": null,
       "overflow_y": null,
       "padding": null,
       "right": null,
       "top": null,
       "visibility": null,
       "width": null
      }
     },
     "4f237b339c4f43088074ef4854e1e8cb": {
      "model_module": "@jupyter-widgets/base",
      "model_module_version": "1.2.0",
      "model_name": "LayoutModel",
      "state": {
       "_model_module": "@jupyter-widgets/base",
       "_model_module_version": "1.2.0",
       "_model_name": "LayoutModel",
       "_view_count": null,
       "_view_module": "@jupyter-widgets/base",
       "_view_module_version": "1.2.0",
       "_view_name": "LayoutView",
       "align_content": null,
       "align_items": null,
       "align_self": null,
       "border": null,
       "bottom": null,
       "display": null,
       "flex": null,
       "flex_flow": null,
       "grid_area": null,
       "grid_auto_columns": null,
       "grid_auto_flow": null,
       "grid_auto_rows": null,
       "grid_column": null,
       "grid_gap": null,
       "grid_row": null,
       "grid_template_areas": null,
       "grid_template_columns": null,
       "grid_template_rows": null,
       "height": null,
       "justify_content": null,
       "justify_items": null,
       "left": null,
       "margin": null,
       "max_height": null,
       "max_width": null,
       "min_height": null,
       "min_width": null,
       "object_fit": null,
       "object_position": null,
       "order": null,
       "overflow": null,
       "overflow_x": null,
       "overflow_y": null,
       "padding": null,
       "right": null,
       "top": null,
       "visibility": null,
       "width": null
      }
     },
     "4f5134da91ab4ca5a72a264bbd0fe210": {
      "model_module": "@jupyter-widgets/controls",
      "model_module_version": "1.5.0",
      "model_name": "ProgressStyleModel",
      "state": {
       "_model_module": "@jupyter-widgets/controls",
       "_model_module_version": "1.5.0",
       "_model_name": "ProgressStyleModel",
       "_view_count": null,
       "_view_module": "@jupyter-widgets/base",
       "_view_module_version": "1.2.0",
       "_view_name": "StyleView",
       "bar_color": null,
       "description_width": ""
      }
     },
     "504a219414f74592914f2196f02c5b20": {
      "model_module": "@jupyter-widgets/controls",
      "model_module_version": "1.5.0",
      "model_name": "HBoxModel",
      "state": {
       "_dom_classes": [],
       "_model_module": "@jupyter-widgets/controls",
       "_model_module_version": "1.5.0",
       "_model_name": "HBoxModel",
       "_view_count": null,
       "_view_module": "@jupyter-widgets/controls",
       "_view_module_version": "1.5.0",
       "_view_name": "HBoxView",
       "box_style": "",
       "children": [
        "IPY_MODEL_24586cb815c343c8b7248f7f2ed56726",
        "IPY_MODEL_e8847227e3a24adc87dc35a3aba68ded",
        "IPY_MODEL_0c1455cf5ba4483cb72d2d0093465851"
       ],
       "layout": "IPY_MODEL_b1e9bad14b0c4d32a1818113f684358c"
      }
     },
     "525903cdb8e647cebce763beb9d043eb": {
      "model_module": "@jupyter-widgets/base",
      "model_module_version": "1.2.0",
      "model_name": "LayoutModel",
      "state": {
       "_model_module": "@jupyter-widgets/base",
       "_model_module_version": "1.2.0",
       "_model_name": "LayoutModel",
       "_view_count": null,
       "_view_module": "@jupyter-widgets/base",
       "_view_module_version": "1.2.0",
       "_view_name": "LayoutView",
       "align_content": null,
       "align_items": null,
       "align_self": null,
       "border": null,
       "bottom": null,
       "display": null,
       "flex": null,
       "flex_flow": null,
       "grid_area": null,
       "grid_auto_columns": null,
       "grid_auto_flow": null,
       "grid_auto_rows": null,
       "grid_column": null,
       "grid_gap": null,
       "grid_row": null,
       "grid_template_areas": null,
       "grid_template_columns": null,
       "grid_template_rows": null,
       "height": null,
       "justify_content": null,
       "justify_items": null,
       "left": null,
       "margin": null,
       "max_height": null,
       "max_width": null,
       "min_height": null,
       "min_width": null,
       "object_fit": null,
       "object_position": null,
       "order": null,
       "overflow": null,
       "overflow_x": null,
       "overflow_y": null,
       "padding": null,
       "right": null,
       "top": null,
       "visibility": null,
       "width": null
      }
     },
     "61c978d783d64515b7023fbc6d7c34ec": {
      "model_module": "@jupyter-widgets/controls",
      "model_module_version": "1.5.0",
      "model_name": "DescriptionStyleModel",
      "state": {
       "_model_module": "@jupyter-widgets/controls",
       "_model_module_version": "1.5.0",
       "_model_name": "DescriptionStyleModel",
       "_view_count": null,
       "_view_module": "@jupyter-widgets/base",
       "_view_module_version": "1.2.0",
       "_view_name": "StyleView",
       "description_width": ""
      }
     },
     "73147550db444f62b80db402a9fa4325": {
      "model_module": "@jupyter-widgets/controls",
      "model_module_version": "1.5.0",
      "model_name": "HBoxModel",
      "state": {
       "_dom_classes": [],
       "_model_module": "@jupyter-widgets/controls",
       "_model_module_version": "1.5.0",
       "_model_name": "HBoxModel",
       "_view_count": null,
       "_view_module": "@jupyter-widgets/controls",
       "_view_module_version": "1.5.0",
       "_view_name": "HBoxView",
       "box_style": "",
       "children": [
        "IPY_MODEL_87072e3978c6450985650e1b19a61418",
        "IPY_MODEL_b5c966d4936e4ec1a7e4101a91b1891a",
        "IPY_MODEL_9b7562cc61c14a7b8251c4c8605f7996"
       ],
       "layout": "IPY_MODEL_b6cbef10ae6c42f087ae392289200eb3"
      }
     },
     "852fcf9946c5477aa96c0d3379ed4001": {
      "model_module": "@jupyter-widgets/controls",
      "model_module_version": "1.5.0",
      "model_name": "DescriptionStyleModel",
      "state": {
       "_model_module": "@jupyter-widgets/controls",
       "_model_module_version": "1.5.0",
       "_model_name": "DescriptionStyleModel",
       "_view_count": null,
       "_view_module": "@jupyter-widgets/base",
       "_view_module_version": "1.2.0",
       "_view_name": "StyleView",
       "description_width": ""
      }
     },
     "856b2fff486d476cabd38c59b9540959": {
      "model_module": "@jupyter-widgets/controls",
      "model_module_version": "1.5.0",
      "model_name": "DescriptionStyleModel",
      "state": {
       "_model_module": "@jupyter-widgets/controls",
       "_model_module_version": "1.5.0",
       "_model_name": "DescriptionStyleModel",
       "_view_count": null,
       "_view_module": "@jupyter-widgets/base",
       "_view_module_version": "1.2.0",
       "_view_name": "StyleView",
       "description_width": ""
      }
     },
     "87072e3978c6450985650e1b19a61418": {
      "model_module": "@jupyter-widgets/controls",
      "model_module_version": "1.5.0",
      "model_name": "HTMLModel",
      "state": {
       "_dom_classes": [],
       "_model_module": "@jupyter-widgets/controls",
       "_model_module_version": "1.5.0",
       "_model_name": "HTMLModel",
       "_view_count": null,
       "_view_module": "@jupyter-widgets/controls",
       "_view_module_version": "1.5.0",
       "_view_name": "HTMLView",
       "description": "",
       "description_tooltip": null,
       "layout": "IPY_MODEL_e9b09a685bdc4affbdd7bdf5bebe603c",
       "placeholder": "​",
       "style": "IPY_MODEL_852fcf9946c5477aa96c0d3379ed4001",
       "value": "Downloading: 100%"
      }
     },
     "871feb076566414c8125ed70b8af5a2c": {
      "model_module": "@jupyter-widgets/base",
      "model_module_version": "1.2.0",
      "model_name": "LayoutModel",
      "state": {
       "_model_module": "@jupyter-widgets/base",
       "_model_module_version": "1.2.0",
       "_model_name": "LayoutModel",
       "_view_count": null,
       "_view_module": "@jupyter-widgets/base",
       "_view_module_version": "1.2.0",
       "_view_name": "LayoutView",
       "align_content": null,
       "align_items": null,
       "align_self": null,
       "border": null,
       "bottom": null,
       "display": null,
       "flex": null,
       "flex_flow": null,
       "grid_area": null,
       "grid_auto_columns": null,
       "grid_auto_flow": null,
       "grid_auto_rows": null,
       "grid_column": null,
       "grid_gap": null,
       "grid_row": null,
       "grid_template_areas": null,
       "grid_template_columns": null,
       "grid_template_rows": null,
       "height": null,
       "justify_content": null,
       "justify_items": null,
       "left": null,
       "margin": null,
       "max_height": null,
       "max_width": null,
       "min_height": null,
       "min_width": null,
       "object_fit": null,
       "object_position": null,
       "order": null,
       "overflow": null,
       "overflow_x": null,
       "overflow_y": null,
       "padding": null,
       "right": null,
       "top": null,
       "visibility": null,
       "width": null
      }
     },
     "88d9466cd2374afaad7abab508c99d11": {
      "model_module": "@jupyter-widgets/base",
      "model_module_version": "1.2.0",
      "model_name": "LayoutModel",
      "state": {
       "_model_module": "@jupyter-widgets/base",
       "_model_module_version": "1.2.0",
       "_model_name": "LayoutModel",
       "_view_count": null,
       "_view_module": "@jupyter-widgets/base",
       "_view_module_version": "1.2.0",
       "_view_name": "LayoutView",
       "align_content": null,
       "align_items": null,
       "align_self": null,
       "border": null,
       "bottom": null,
       "display": null,
       "flex": null,
       "flex_flow": null,
       "grid_area": null,
       "grid_auto_columns": null,
       "grid_auto_flow": null,
       "grid_auto_rows": null,
       "grid_column": null,
       "grid_gap": null,
       "grid_row": null,
       "grid_template_areas": null,
       "grid_template_columns": null,
       "grid_template_rows": null,
       "height": null,
       "justify_content": null,
       "justify_items": null,
       "left": null,
       "margin": null,
       "max_height": null,
       "max_width": null,
       "min_height": null,
       "min_width": null,
       "object_fit": null,
       "object_position": null,
       "order": null,
       "overflow": null,
       "overflow_x": null,
       "overflow_y": null,
       "padding": null,
       "right": null,
       "top": null,
       "visibility": null,
       "width": null
      }
     },
     "94fed51365164478a5b1e09e0924445c": {
      "model_module": "@jupyter-widgets/controls",
      "model_module_version": "1.5.0",
      "model_name": "DescriptionStyleModel",
      "state": {
       "_model_module": "@jupyter-widgets/controls",
       "_model_module_version": "1.5.0",
       "_model_name": "DescriptionStyleModel",
       "_view_count": null,
       "_view_module": "@jupyter-widgets/base",
       "_view_module_version": "1.2.0",
       "_view_name": "StyleView",
       "description_width": ""
      }
     },
     "9652e299c5af4ea5b44e7d6397ef59e6": {
      "model_module": "@jupyter-widgets/base",
      "model_module_version": "1.2.0",
      "model_name": "LayoutModel",
      "state": {
       "_model_module": "@jupyter-widgets/base",
       "_model_module_version": "1.2.0",
       "_model_name": "LayoutModel",
       "_view_count": null,
       "_view_module": "@jupyter-widgets/base",
       "_view_module_version": "1.2.0",
       "_view_name": "LayoutView",
       "align_content": null,
       "align_items": null,
       "align_self": null,
       "border": null,
       "bottom": null,
       "display": null,
       "flex": null,
       "flex_flow": null,
       "grid_area": null,
       "grid_auto_columns": null,
       "grid_auto_flow": null,
       "grid_auto_rows": null,
       "grid_column": null,
       "grid_gap": null,
       "grid_row": null,
       "grid_template_areas": null,
       "grid_template_columns": null,
       "grid_template_rows": null,
       "height": null,
       "justify_content": null,
       "justify_items": null,
       "left": null,
       "margin": null,
       "max_height": null,
       "max_width": null,
       "min_height": null,
       "min_width": null,
       "object_fit": null,
       "object_position": null,
       "order": null,
       "overflow": null,
       "overflow_x": null,
       "overflow_y": null,
       "padding": null,
       "right": null,
       "top": null,
       "visibility": null,
       "width": null
      }
     },
     "9961f80c930c49bea128317d181899e1": {
      "model_module": "@jupyter-widgets/base",
      "model_module_version": "1.2.0",
      "model_name": "LayoutModel",
      "state": {
       "_model_module": "@jupyter-widgets/base",
       "_model_module_version": "1.2.0",
       "_model_name": "LayoutModel",
       "_view_count": null,
       "_view_module": "@jupyter-widgets/base",
       "_view_module_version": "1.2.0",
       "_view_name": "LayoutView",
       "align_content": null,
       "align_items": null,
       "align_self": null,
       "border": null,
       "bottom": null,
       "display": null,
       "flex": null,
       "flex_flow": null,
       "grid_area": null,
       "grid_auto_columns": null,
       "grid_auto_flow": null,
       "grid_auto_rows": null,
       "grid_column": null,
       "grid_gap": null,
       "grid_row": null,
       "grid_template_areas": null,
       "grid_template_columns": null,
       "grid_template_rows": null,
       "height": null,
       "justify_content": null,
       "justify_items": null,
       "left": null,
       "margin": null,
       "max_height": null,
       "max_width": null,
       "min_height": null,
       "min_width": null,
       "object_fit": null,
       "object_position": null,
       "order": null,
       "overflow": null,
       "overflow_x": null,
       "overflow_y": null,
       "padding": null,
       "right": null,
       "top": null,
       "visibility": null,
       "width": null
      }
     },
     "9a476a90a63c45a48b2de264e7923613": {
      "model_module": "@jupyter-widgets/controls",
      "model_module_version": "1.5.0",
      "model_name": "HBoxModel",
      "state": {
       "_dom_classes": [],
       "_model_module": "@jupyter-widgets/controls",
       "_model_module_version": "1.5.0",
       "_model_name": "HBoxModel",
       "_view_count": null,
       "_view_module": "@jupyter-widgets/controls",
       "_view_module_version": "1.5.0",
       "_view_name": "HBoxView",
       "box_style": "",
       "children": [
        "IPY_MODEL_038c184167ff4acb974959902dad3601",
        "IPY_MODEL_cc915daf3fa7482696646dec371e2090",
        "IPY_MODEL_3cca131a97704b089faeecd2eb2ef991"
       ],
       "layout": "IPY_MODEL_be672d8a032a4eaeb9708c5844404b07"
      }
     },
     "9b7562cc61c14a7b8251c4c8605f7996": {
      "model_module": "@jupyter-widgets/controls",
      "model_module_version": "1.5.0",
      "model_name": "HTMLModel",
      "state": {
       "_dom_classes": [],
       "_model_module": "@jupyter-widgets/controls",
       "_model_module_version": "1.5.0",
       "_model_name": "HTMLModel",
       "_view_count": null,
       "_view_module": "@jupyter-widgets/controls",
       "_view_module_version": "1.5.0",
       "_view_name": "HTMLView",
       "description": "",
       "description_tooltip": null,
       "layout": "IPY_MODEL_247616dc365b42d5b90ea54854866fd8",
       "placeholder": "​",
       "style": "IPY_MODEL_36981bdef1ac45a598e4584624b4467e",
       "value": " 1.21k/1.21k [00:00&lt;00:00, 46.7kB/s]"
      }
     },
     "9b8cc84d8f3d47b4a5d71ea412e05cee": {
      "model_module": "@jupyter-widgets/controls",
      "model_module_version": "1.5.0",
      "model_name": "HTMLModel",
      "state": {
       "_dom_classes": [],
       "_model_module": "@jupyter-widgets/controls",
       "_model_module_version": "1.5.0",
       "_model_name": "HTMLModel",
       "_view_count": null,
       "_view_module": "@jupyter-widgets/controls",
       "_view_module_version": "1.5.0",
       "_view_name": "HTMLView",
       "description": "",
       "description_tooltip": null,
       "layout": "IPY_MODEL_db4cbb500b0548dbb9a575c5b3875175",
       "placeholder": "​",
       "style": "IPY_MODEL_856b2fff486d476cabd38c59b9540959",
       "value": "Downloading: 100%"
      }
     },
     "a12679c44419473f8fcd9a2d76b5b1a5": {
      "model_module": "@jupyter-widgets/controls",
      "model_module_version": "1.5.0",
      "model_name": "HTMLModel",
      "state": {
       "_dom_classes": [],
       "_model_module": "@jupyter-widgets/controls",
       "_model_module_version": "1.5.0",
       "_model_name": "HTMLModel",
       "_view_count": null,
       "_view_module": "@jupyter-widgets/controls",
       "_view_module_version": "1.5.0",
       "_view_name": "HTMLView",
       "description": "",
       "description_tooltip": null,
       "layout": "IPY_MODEL_a23be54307e54f07b3d86b203ecfeb68",
       "placeholder": "​",
       "style": "IPY_MODEL_f9b8d621e1244a00bd729bad2572d06f",
       "value": "Downloading: 100%"
      }
     },
     "a23be54307e54f07b3d86b203ecfeb68": {
      "model_module": "@jupyter-widgets/base",
      "model_module_version": "1.2.0",
      "model_name": "LayoutModel",
      "state": {
       "_model_module": "@jupyter-widgets/base",
       "_model_module_version": "1.2.0",
       "_model_name": "LayoutModel",
       "_view_count": null,
       "_view_module": "@jupyter-widgets/base",
       "_view_module_version": "1.2.0",
       "_view_name": "LayoutView",
       "align_content": null,
       "align_items": null,
       "align_self": null,
       "border": null,
       "bottom": null,
       "display": null,
       "flex": null,
       "flex_flow": null,
       "grid_area": null,
       "grid_auto_columns": null,
       "grid_auto_flow": null,
       "grid_auto_rows": null,
       "grid_column": null,
       "grid_gap": null,
       "grid_row": null,
       "grid_template_areas": null,
       "grid_template_columns": null,
       "grid_template_rows": null,
       "height": null,
       "justify_content": null,
       "justify_items": null,
       "left": null,
       "margin": null,
       "max_height": null,
       "max_width": null,
       "min_height": null,
       "min_width": null,
       "object_fit": null,
       "object_position": null,
       "order": null,
       "overflow": null,
       "overflow_x": null,
       "overflow_y": null,
       "padding": null,
       "right": null,
       "top": null,
       "visibility": null,
       "width": null
      }
     },
     "a3a82bf43f4542edbdc282dac0d62a8b": {
      "model_module": "@jupyter-widgets/controls",
      "model_module_version": "1.5.0",
      "model_name": "DescriptionStyleModel",
      "state": {
       "_model_module": "@jupyter-widgets/controls",
       "_model_module_version": "1.5.0",
       "_model_name": "DescriptionStyleModel",
       "_view_count": null,
       "_view_module": "@jupyter-widgets/base",
       "_view_module_version": "1.2.0",
       "_view_name": "StyleView",
       "description_width": ""
      }
     },
     "a3c03aadee5f45018d7de8645f3c69f9": {
      "model_module": "@jupyter-widgets/controls",
      "model_module_version": "1.5.0",
      "model_name": "ProgressStyleModel",
      "state": {
       "_model_module": "@jupyter-widgets/controls",
       "_model_module_version": "1.5.0",
       "_model_name": "ProgressStyleModel",
       "_view_count": null,
       "_view_module": "@jupyter-widgets/base",
       "_view_module_version": "1.2.0",
       "_view_name": "StyleView",
       "bar_color": null,
       "description_width": ""
      }
     },
     "b1e9bad14b0c4d32a1818113f684358c": {
      "model_module": "@jupyter-widgets/base",
      "model_module_version": "1.2.0",
      "model_name": "LayoutModel",
      "state": {
       "_model_module": "@jupyter-widgets/base",
       "_model_module_version": "1.2.0",
       "_model_name": "LayoutModel",
       "_view_count": null,
       "_view_module": "@jupyter-widgets/base",
       "_view_module_version": "1.2.0",
       "_view_name": "LayoutView",
       "align_content": null,
       "align_items": null,
       "align_self": null,
       "border": null,
       "bottom": null,
       "display": null,
       "flex": null,
       "flex_flow": null,
       "grid_area": null,
       "grid_auto_columns": null,
       "grid_auto_flow": null,
       "grid_auto_rows": null,
       "grid_column": null,
       "grid_gap": null,
       "grid_row": null,
       "grid_template_areas": null,
       "grid_template_columns": null,
       "grid_template_rows": null,
       "height": null,
       "justify_content": null,
       "justify_items": null,
       "left": null,
       "margin": null,
       "max_height": null,
       "max_width": null,
       "min_height": null,
       "min_width": null,
       "object_fit": null,
       "object_position": null,
       "order": null,
       "overflow": null,
       "overflow_x": null,
       "overflow_y": null,
       "padding": null,
       "right": null,
       "top": null,
       "visibility": null,
       "width": null
      }
     },
     "b5992f3a58ff41f291605bb98aff9494": {
      "model_module": "@jupyter-widgets/base",
      "model_module_version": "1.2.0",
      "model_name": "LayoutModel",
      "state": {
       "_model_module": "@jupyter-widgets/base",
       "_model_module_version": "1.2.0",
       "_model_name": "LayoutModel",
       "_view_count": null,
       "_view_module": "@jupyter-widgets/base",
       "_view_module_version": "1.2.0",
       "_view_name": "LayoutView",
       "align_content": null,
       "align_items": null,
       "align_self": null,
       "border": null,
       "bottom": null,
       "display": null,
       "flex": null,
       "flex_flow": null,
       "grid_area": null,
       "grid_auto_columns": null,
       "grid_auto_flow": null,
       "grid_auto_rows": null,
       "grid_column": null,
       "grid_gap": null,
       "grid_row": null,
       "grid_template_areas": null,
       "grid_template_columns": null,
       "grid_template_rows": null,
       "height": null,
       "justify_content": null,
       "justify_items": null,
       "left": null,
       "margin": null,
       "max_height": null,
       "max_width": null,
       "min_height": null,
       "min_width": null,
       "object_fit": null,
       "object_position": null,
       "order": null,
       "overflow": null,
       "overflow_x": null,
       "overflow_y": null,
       "padding": null,
       "right": null,
       "top": null,
       "visibility": null,
       "width": null
      }
     },
     "b5c966d4936e4ec1a7e4101a91b1891a": {
      "model_module": "@jupyter-widgets/controls",
      "model_module_version": "1.5.0",
      "model_name": "FloatProgressModel",
      "state": {
       "_dom_classes": [],
       "_model_module": "@jupyter-widgets/controls",
       "_model_module_version": "1.5.0",
       "_model_name": "FloatProgressModel",
       "_view_count": null,
       "_view_module": "@jupyter-widgets/controls",
       "_view_module_version": "1.5.0",
       "_view_name": "ProgressView",
       "bar_style": "success",
       "description": "",
       "description_tooltip": null,
       "layout": "IPY_MODEL_9652e299c5af4ea5b44e7d6397ef59e6",
       "max": 1235,
       "min": 0,
       "orientation": "horizontal",
       "style": "IPY_MODEL_f5de629162084535afe4308bc617d82f",
       "value": 1235
      }
     },
     "b6cbef10ae6c42f087ae392289200eb3": {
      "model_module": "@jupyter-widgets/base",
      "model_module_version": "1.2.0",
      "model_name": "LayoutModel",
      "state": {
       "_model_module": "@jupyter-widgets/base",
       "_model_module_version": "1.2.0",
       "_model_name": "LayoutModel",
       "_view_count": null,
       "_view_module": "@jupyter-widgets/base",
       "_view_module_version": "1.2.0",
       "_view_name": "LayoutView",
       "align_content": null,
       "align_items": null,
       "align_self": null,
       "border": null,
       "bottom": null,
       "display": null,
       "flex": null,
       "flex_flow": null,
       "grid_area": null,
       "grid_auto_columns": null,
       "grid_auto_flow": null,
       "grid_auto_rows": null,
       "grid_column": null,
       "grid_gap": null,
       "grid_row": null,
       "grid_template_areas": null,
       "grid_template_columns": null,
       "grid_template_rows": null,
       "height": null,
       "justify_content": null,
       "justify_items": null,
       "left": null,
       "margin": null,
       "max_height": null,
       "max_width": null,
       "min_height": null,
       "min_width": null,
       "object_fit": null,
       "object_position": null,
       "order": null,
       "overflow": null,
       "overflow_x": null,
       "overflow_y": null,
       "padding": null,
       "right": null,
       "top": null,
       "visibility": null,
       "width": null
      }
     },
     "bd529260f9b3476e84e5f54f134ea995": {
      "model_module": "@jupyter-widgets/controls",
      "model_module_version": "1.5.0",
      "model_name": "ProgressStyleModel",
      "state": {
       "_model_module": "@jupyter-widgets/controls",
       "_model_module_version": "1.5.0",
       "_model_name": "ProgressStyleModel",
       "_view_count": null,
       "_view_module": "@jupyter-widgets/base",
       "_view_module_version": "1.2.0",
       "_view_name": "StyleView",
       "bar_color": null,
       "description_width": ""
      }
     },
     "be672d8a032a4eaeb9708c5844404b07": {
      "model_module": "@jupyter-widgets/base",
      "model_module_version": "1.2.0",
      "model_name": "LayoutModel",
      "state": {
       "_model_module": "@jupyter-widgets/base",
       "_model_module_version": "1.2.0",
       "_model_name": "LayoutModel",
       "_view_count": null,
       "_view_module": "@jupyter-widgets/base",
       "_view_module_version": "1.2.0",
       "_view_name": "LayoutView",
       "align_content": null,
       "align_items": null,
       "align_self": null,
       "border": null,
       "bottom": null,
       "display": null,
       "flex": null,
       "flex_flow": null,
       "grid_area": null,
       "grid_auto_columns": null,
       "grid_auto_flow": null,
       "grid_auto_rows": null,
       "grid_column": null,
       "grid_gap": null,
       "grid_row": null,
       "grid_template_areas": null,
       "grid_template_columns": null,
       "grid_template_rows": null,
       "height": null,
       "justify_content": null,
       "justify_items": null,
       "left": null,
       "margin": null,
       "max_height": null,
       "max_width": null,
       "min_height": null,
       "min_width": null,
       "object_fit": null,
       "object_position": null,
       "order": null,
       "overflow": null,
       "overflow_x": null,
       "overflow_y": null,
       "padding": null,
       "right": null,
       "top": null,
       "visibility": null,
       "width": null
      }
     },
     "cc915daf3fa7482696646dec371e2090": {
      "model_module": "@jupyter-widgets/controls",
      "model_module_version": "1.5.0",
      "model_name": "FloatProgressModel",
      "state": {
       "_dom_classes": [],
       "_model_module": "@jupyter-widgets/controls",
       "_model_module_version": "1.5.0",
       "_model_name": "FloatProgressModel",
       "_view_count": null,
       "_view_module": "@jupyter-widgets/controls",
       "_view_module_version": "1.5.0",
       "_view_name": "ProgressView",
       "bar_style": "success",
       "description": "",
       "description_tooltip": null,
       "layout": "IPY_MODEL_525903cdb8e647cebce763beb9d043eb",
       "max": 112,
       "min": 0,
       "orientation": "horizontal",
       "style": "IPY_MODEL_393cf60dbe524571a19bcfd0082056ab",
       "value": 112
      }
     },
     "ce831db927594dc0a2b585c85ee34433": {
      "model_module": "@jupyter-widgets/controls",
      "model_module_version": "1.5.0",
      "model_name": "HBoxModel",
      "state": {
       "_dom_classes": [],
       "_model_module": "@jupyter-widgets/controls",
       "_model_module_version": "1.5.0",
       "_model_name": "HBoxModel",
       "_view_count": null,
       "_view_module": "@jupyter-widgets/controls",
       "_view_module_version": "1.5.0",
       "_view_name": "HBoxView",
       "box_style": "",
       "children": [
        "IPY_MODEL_9b8cc84d8f3d47b4a5d71ea412e05cee",
        "IPY_MODEL_341ba6431d6341588d08cb97543daef4",
        "IPY_MODEL_1d397a6876864d7d870d88f633f21fac"
       ],
       "layout": "IPY_MODEL_4f237b339c4f43088074ef4854e1e8cb"
      }
     },
     "d81fc2ccfa2a4d7ca8f06fa25bcb75ec": {
      "model_module": "@jupyter-widgets/base",
      "model_module_version": "1.2.0",
      "model_name": "LayoutModel",
      "state": {
       "_model_module": "@jupyter-widgets/base",
       "_model_module_version": "1.2.0",
       "_model_name": "LayoutModel",
       "_view_count": null,
       "_view_module": "@jupyter-widgets/base",
       "_view_module_version": "1.2.0",
       "_view_name": "LayoutView",
       "align_content": null,
       "align_items": null,
       "align_self": null,
       "border": null,
       "bottom": null,
       "display": null,
       "flex": null,
       "flex_flow": null,
       "grid_area": null,
       "grid_auto_columns": null,
       "grid_auto_flow": null,
       "grid_auto_rows": null,
       "grid_column": null,
       "grid_gap": null,
       "grid_row": null,
       "grid_template_areas": null,
       "grid_template_columns": null,
       "grid_template_rows": null,
       "height": null,
       "justify_content": null,
       "justify_items": null,
       "left": null,
       "margin": null,
       "max_height": null,
       "max_width": null,
       "min_height": null,
       "min_width": null,
       "object_fit": null,
       "object_position": null,
       "order": null,
       "overflow": null,
       "overflow_x": null,
       "overflow_y": null,
       "padding": null,
       "right": null,
       "top": null,
       "visibility": null,
       "width": null
      }
     },
     "db4cbb500b0548dbb9a575c5b3875175": {
      "model_module": "@jupyter-widgets/base",
      "model_module_version": "1.2.0",
      "model_name": "LayoutModel",
      "state": {
       "_model_module": "@jupyter-widgets/base",
       "_model_module_version": "1.2.0",
       "_model_name": "LayoutModel",
       "_view_count": null,
       "_view_module": "@jupyter-widgets/base",
       "_view_module_version": "1.2.0",
       "_view_name": "LayoutView",
       "align_content": null,
       "align_items": null,
       "align_self": null,
       "border": null,
       "bottom": null,
       "display": null,
       "flex": null,
       "flex_flow": null,
       "grid_area": null,
       "grid_auto_columns": null,
       "grid_auto_flow": null,
       "grid_auto_rows": null,
       "grid_column": null,
       "grid_gap": null,
       "grid_row": null,
       "grid_template_areas": null,
       "grid_template_columns": null,
       "grid_template_rows": null,
       "height": null,
       "justify_content": null,
       "justify_items": null,
       "left": null,
       "margin": null,
       "max_height": null,
       "max_width": null,
       "min_height": null,
       "min_width": null,
       "object_fit": null,
       "object_position": null,
       "order": null,
       "overflow": null,
       "overflow_x": null,
       "overflow_y": null,
       "padding": null,
       "right": null,
       "top": null,
       "visibility": null,
       "width": null
      }
     },
     "e8847227e3a24adc87dc35a3aba68ded": {
      "model_module": "@jupyter-widgets/controls",
      "model_module_version": "1.5.0",
      "model_name": "FloatProgressModel",
      "state": {
       "_dom_classes": [],
       "_model_module": "@jupyter-widgets/controls",
       "_model_module_version": "1.5.0",
       "_model_name": "FloatProgressModel",
       "_view_count": null,
       "_view_module": "@jupyter-widgets/controls",
       "_view_module_version": "1.5.0",
       "_view_name": "ProgressView",
       "bar_style": "success",
       "description": "",
       "description_tooltip": null,
       "layout": "IPY_MODEL_88d9466cd2374afaad7abab508c99d11",
       "max": 440468473,
       "min": 0,
       "orientation": "horizontal",
       "style": "IPY_MODEL_bd529260f9b3476e84e5f54f134ea995",
       "value": 440468473
      }
     },
     "e9b09a685bdc4affbdd7bdf5bebe603c": {
      "model_module": "@jupyter-widgets/base",
      "model_module_version": "1.2.0",
      "model_name": "LayoutModel",
      "state": {
       "_model_module": "@jupyter-widgets/base",
       "_model_module_version": "1.2.0",
       "_model_name": "LayoutModel",
       "_view_count": null,
       "_view_module": "@jupyter-widgets/base",
       "_view_module_version": "1.2.0",
       "_view_name": "LayoutView",
       "align_content": null,
       "align_items": null,
       "align_self": null,
       "border": null,
       "bottom": null,
       "display": null,
       "flex": null,
       "flex_flow": null,
       "grid_area": null,
       "grid_auto_columns": null,
       "grid_auto_flow": null,
       "grid_auto_rows": null,
       "grid_column": null,
       "grid_gap": null,
       "grid_row": null,
       "grid_template_areas": null,
       "grid_template_columns": null,
       "grid_template_rows": null,
       "height": null,
       "justify_content": null,
       "justify_items": null,
       "left": null,
       "margin": null,
       "max_height": null,
       "max_width": null,
       "min_height": null,
       "min_width": null,
       "object_fit": null,
       "object_position": null,
       "order": null,
       "overflow": null,
       "overflow_x": null,
       "overflow_y": null,
       "padding": null,
       "right": null,
       "top": null,
       "visibility": null,
       "width": null
      }
     },
     "f5de629162084535afe4308bc617d82f": {
      "model_module": "@jupyter-widgets/controls",
      "model_module_version": "1.5.0",
      "model_name": "ProgressStyleModel",
      "state": {
       "_model_module": "@jupyter-widgets/controls",
       "_model_module_version": "1.5.0",
       "_model_name": "ProgressStyleModel",
       "_view_count": null,
       "_view_module": "@jupyter-widgets/base",
       "_view_module_version": "1.2.0",
       "_view_name": "StyleView",
       "bar_color": null,
       "description_width": ""
      }
     },
     "f9b8d621e1244a00bd729bad2572d06f": {
      "model_module": "@jupyter-widgets/controls",
      "model_module_version": "1.5.0",
      "model_name": "DescriptionStyleModel",
      "state": {
       "_model_module": "@jupyter-widgets/controls",
       "_model_module_version": "1.5.0",
       "_model_name": "DescriptionStyleModel",
       "_view_count": null,
       "_view_module": "@jupyter-widgets/base",
       "_view_module_version": "1.2.0",
       "_view_name": "StyleView",
       "description_width": ""
      }
     },
     "fa731ac515074f11bdde6129ed8a14ac": {
      "model_module": "@jupyter-widgets/controls",
      "model_module_version": "1.5.0",
      "model_name": "HTMLModel",
      "state": {
       "_dom_classes": [],
       "_model_module": "@jupyter-widgets/controls",
       "_model_module_version": "1.5.0",
       "_model_name": "HTMLModel",
       "_view_count": null,
       "_view_module": "@jupyter-widgets/controls",
       "_view_module_version": "1.5.0",
       "_view_name": "HTMLView",
       "description": "",
       "description_tooltip": null,
       "layout": "IPY_MODEL_4cfa1a0c4a2542eeadca801f506ffb6f",
       "placeholder": "​",
       "style": "IPY_MODEL_1c5b5609eea14feaa1aaf458c0a325fd",
       "value": " 151/151 [00:00&lt;00:00, 5.59kB/s]"
      }
     },
     "fda1c7d966f64acda189681b1f8b6854": {
      "model_module": "@jupyter-widgets/controls",
      "model_module_version": "1.5.0",
      "model_name": "FloatProgressModel",
      "state": {
       "_dom_classes": [],
       "_model_module": "@jupyter-widgets/controls",
       "_model_module_version": "1.5.0",
       "_model_name": "FloatProgressModel",
       "_view_count": null,
       "_view_module": "@jupyter-widgets/controls",
       "_view_module_version": "1.5.0",
       "_view_name": "ProgressView",
       "bar_style": "success",
       "description": "",
       "description_tooltip": null,
       "layout": "IPY_MODEL_b5992f3a58ff41f291605bb98aff9494",
       "max": 151,
       "min": 0,
       "orientation": "horizontal",
       "style": "IPY_MODEL_4f5134da91ab4ca5a72a264bbd0fe210",
       "value": 151
      }
     },
     "ffd567465c0b4967949c779381381a1e": {
      "model_module": "@jupyter-widgets/controls",
      "model_module_version": "1.5.0",
      "model_name": "HBoxModel",
      "state": {
       "_dom_classes": [],
       "_model_module": "@jupyter-widgets/controls",
       "_model_module_version": "1.5.0",
       "_model_name": "HBoxModel",
       "_view_count": null,
       "_view_module": "@jupyter-widgets/controls",
       "_view_module_version": "1.5.0",
       "_view_name": "HBoxView",
       "box_style": "",
       "children": [
        "IPY_MODEL_a12679c44419473f8fcd9a2d76b5b1a5",
        "IPY_MODEL_fda1c7d966f64acda189681b1f8b6854",
        "IPY_MODEL_fa731ac515074f11bdde6129ed8a14ac"
       ],
       "layout": "IPY_MODEL_23a20d24fc4749fc8637b2c8f3f2135b"
      }
     }
    },
    "version_major": 2,
    "version_minor": 0
   }
  }
 },
 "nbformat": 4,
 "nbformat_minor": 5
}
